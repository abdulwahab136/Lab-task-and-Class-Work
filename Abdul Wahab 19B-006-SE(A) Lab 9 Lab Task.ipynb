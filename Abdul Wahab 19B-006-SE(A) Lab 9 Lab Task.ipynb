{
 "cells": [
  {
   "cell_type": "code",
   "execution_count": 2,
   "metadata": {},
   "outputs": [
    {
     "name": "stdout",
     "output_type": "stream",
     "text": [
      "{'234-56-78', '123-45-67', '345-67-89'}\n",
      "The length of phonebook is :  3\n",
      "The Given phonebook is     :  {'234-56-78', '123-45-67', '345-67-89'}\n"
     ]
    }
   ],
   "source": [
    "#Question 1 \n",
    "phonebook1 = {'123-45-67','234-56-78','345-67-89','123-45-67','345-67-89'}\n",
    "print(phonebook1)\n",
    "set_len = len(phonebook1)\n",
    "print(\"The length of phonebook is : \",set_len)\n",
    "print(\"The Given phonebook is     : \",phonebook1)"
   ]
  },
  {
   "cell_type": "code",
   "execution_count": 4,
   "metadata": {},
   "outputs": [
    {
     "name": "stdout",
     "output_type": "stream",
     "text": [
      "{17.5, (1, 2, 3, 4, 5, 6), 'Usman Institute of Technology'}\n",
      "The length of mix data is :  3\n"
     ]
    }
   ],
   "source": [
    "#Question 2\n",
    "mix_data = {'Usman Institute of Technology',17.5,(1,2,3,4,5,6)}\n",
    "print(mix_data)\n",
    "set_len = len(mix_data)\n",
    "print(\"The length of mix data is : \",set_len)"
   ]
  },
  {
   "cell_type": "code",
   "execution_count": 8,
   "metadata": {},
   "outputs": [
    {
     "name": "stdout",
     "output_type": "stream",
     "text": [
      "For a Data Scientest specilization you need :  {'R', 'Git', 'SAS', 'SQl', 'Tableau', 'python'}\n",
      "For a Data Engineeer specilization you need :  {'Java', 'Python', 'SQL', 'Git', 'Scala', 'Hadoop'}\n"
     ]
    }
   ],
   "source": [
    "#Question 3\n",
    "datascientist = set(['python','R','SQl','Git','Tableau','SAS'])\n",
    "dataEngineer = set(['Python','Java','Scala','Git','SQL','Hadoop'])\n",
    "print('For a Data Scientest specilization you need : ', datascientist)\n",
    "print('For a Data Engineeer specilization you need : ', dataEngineer)"
   ]
  },
  {
   "cell_type": "code",
   "execution_count": 10,
   "metadata": {},
   "outputs": [
    {
     "name": "stdout",
     "output_type": "stream",
     "text": [
      "set()\n",
      "{}\n",
      "{}\n"
     ]
    }
   ],
   "source": [
    "#Question 4\n",
    "my_empty_set = set()\n",
    "my_empty_dictionary1 = dict()\n",
    "my_empty_dictionary2 = {}\n",
    "\n",
    "print(my_empty_set)\n",
    "print(my_empty_dictionary1)\n",
    "print(my_empty_dictionary2)"
   ]
  },
  {
   "cell_type": "code",
   "execution_count": 15,
   "metadata": {},
   "outputs": [
    {
     "name": "stdout",
     "output_type": "stream",
     "text": [
      "My top scoring Students in Programming Fundamentals are :  {'Rafeh', 'Ahad', 'Wadood', 'Yusra', 'Asma', 'Bassam', 'Usman'}\n",
      "Oh! I guess I missed one student, let me add him \n",
      "Previously I have added 7 Students in my list\n",
      "Thanks ! I have remembered him\n",
      "Now my top scoring Students in Programming Fundamentals are :  {'Rafeh', 'Ahad', 'Khurram', 'Wadood', 'Yusra', 'Asma', 'Bassam', 'Usman'}\n",
      "Now I have 8 Students in my list\n"
     ]
    }
   ],
   "source": [
    "#Question 5\n",
    "my_topStudents = {'Bassam','Usman','Rafeh','Ahad','Wadood','Yusra','Asma'}\n",
    "print(\"My top scoring Students in Programming Fundamentals are : \",my_topStudents)\n",
    "print(\"Oh! I guess I missed one student, let me add him \")\n",
    "print(\"Previously I have added \" +str(len(my_topStudents))+ ' Students in my list')\n",
    "my_topStudents.add('Khurram')\n",
    "print('Thanks ! I have remembered him')\n",
    "print(\"Now my top scoring Students in Programming Fundamentals are : \",my_topStudents)\n",
    "print(\"Now I have \" +str(len(my_topStudents))+ ' Students in my list')"
   ]
  },
  {
   "cell_type": "code",
   "execution_count": 18,
   "metadata": {},
   "outputs": [
    {
     "name": "stdout",
     "output_type": "stream",
     "text": [
      "My top scoring Students in Programming Fundamentals are :  {'Rafeh', 'Ahad', 'Wadood', 'Yusra', 'Asma', 'Bassam', 'Usman'}\n",
      "Oh! I guess I missed one student, let me add him \n",
      "Previously I have added 7 Students in my list\n",
      "thanks ! I have remembered him\n",
      "After adding I have 9 Students in my list\n",
      "Oh! I have added one student with similar name,let me remove him\n",
      "Now my top scoring Students in Programming Fundamentals are :  {'Rafeh', 'Ahad', 'Khurram Khan', 'Wadood', 'Yusra', 'Asma', 'Bassam', 'Usman'}\n",
      "After removing I have 8 Students in my list\n"
     ]
    }
   ],
   "source": [
    "#Question 6\n",
    "my_topStudents = {'Bassam','Usman','Rafeh','Ahad','Wadood','Yusra','Asma'}\n",
    "print(\"My top scoring Students in Programming Fundamentals are : \",my_topStudents)\n",
    "print(\"Oh! I guess I missed one student, let me add him \")\n",
    "print(\"Previously I have added \" +str(len(my_topStudents))+ ' Students in my list')\n",
    "my_topStudents.add('Khurram Khalil')\n",
    "my_topStudents.add('Khurram Khan')\n",
    "print('thanks ! I have remembered him')\n",
    "print(\"After adding I have \" +str(len(my_topStudents))+ ' Students in my list')\n",
    "print('Oh! I have added one student with similar name,let me remove him')\n",
    "my_topStudents.remove('Khurram Khalil')\n",
    "print(\"Now my top scoring Students in Programming Fundamentals are : \",my_topStudents)\n",
    "print(\"After removing I have \" +str(len(my_topStudents))+ ' Students in my list')"
   ]
  },
  {
   "cell_type": "code",
   "execution_count": 25,
   "metadata": {},
   "outputs": [
    {
     "name": "stdout",
     "output_type": "stream",
     "text": [
      "My top scoring Students in Programming Fundamentals are :  {'Rafeh', 'Ahad', 'Wadood', 'Yusra', 'Asma', 'Bassam', 'Usman'}\n",
      "Oh! I guess I missed one student, let me add him \n",
      "Previously I have added 7 Students in my list\n",
      "thanks ! I have remembered him\n",
      "After adding I have 9 Students in my list\n",
      "Oh! I have added one student with similar name,let me remove him\n",
      "Now my top scoring Students after removing extra names are :  {'Rafeh', 'Ahad', 'Khurram Khan', 'Wadood', 'Yusra', 'Asma', 'Bassam', 'Usman'}\n",
      "After removing I have 8 Students in my list\n",
      "Now my top scoring Students after removing extra names are :  {'Rafeh', 'Ahad', 'Khurram Khan', 'Wadood', 'Yusra', 'Asma', 'Bassam', 'Usman'}\n",
      "After removing I have 8 Students in my list\n"
     ]
    }
   ],
   "source": [
    "#Question 7\n",
    "my_topStudents = {'Bassam','Usman','Rafeh','Ahad','Wadood','Yusra','Asma'}\n",
    "print(\"My top scoring Students in Programming Fundamentals are : \",my_topStudents)\n",
    "print(\"Oh! I guess I missed one student, let me add him \")\n",
    "print(\"Previously I have added \" +str(len(my_topStudents))+ ' Students in my list')\n",
    "my_topStudents.add('Khurram Khalil')\n",
    "my_topStudents.add('Khurram Khan')\n",
    "print('thanks ! I have remembered him')\n",
    "print(\"After adding I have \" +str(len(my_topStudents))+ ' Students in my list')\n",
    "print('Oh! I have added one student with similar name,let me remove him')\n",
    "my_topStudents.remove('Khurram Khalil')\n",
    "print(\"Now my top scoring Students after removing extra names are : \",my_topStudents)\n",
    "print(\"After removing I have \" +str(len(my_topStudents))+ ' Students in my list')\n",
    "my_topStudents.discard('Khurram Khalil')\n",
    "print(\"Now my top scoring Students after removing extra names are : \",my_topStudents)\n",
    "print(\"After removing I have \" +str(len(my_topStudents))+ ' Students in my list')\n"
   ]
  },
  {
   "cell_type": "code",
   "execution_count": 26,
   "metadata": {},
   "outputs": [
    {
     "name": "stdout",
     "output_type": "stream",
     "text": [
      "My top scoring Students in Programming Fundamentals are :  {'Rafeh', 'Ahad', 'Wadood', 'Yusra', 'Asma', 'Bassam', 'Usman'}\n",
      "Oh! I guess I missed one student, let me add him \n",
      "Previously I have added 7 Students in my list\n",
      "thanks ! I have remembered him\n",
      "After adding I have 9 Students in my list\n",
      "Oh! I have added one student with similar name,let me remove him\n",
      "Now my top scoring Students after removing extra names are :  {'Rafeh', 'Ahad', 'Khurram Khan', 'Wadood', 'Yusra', 'Asma', 'Bassam', 'Usman'}\n",
      "After removing I have 8 Students in my list\n",
      "Now my top scoring Students after removing extra names are :  {'Rafeh', 'Ahad', 'Khurram Khan', 'Wadood', 'Yusra', 'Asma', 'Bassam', 'Usman'}\n",
      "After removing I have 8 Students in my list\n",
      "Now my top scoring Students after removing extra names are :  {'Ahad', 'Khurram Khan', 'Wadood', 'Yusra', 'Asma', 'Bassam', 'Usman'}\n",
      "After removing I have 7 Students in my list\n"
     ]
    }
   ],
   "source": [
    "#Question 8\n",
    "my_topStudents = {'Bassam','Usman','Rafeh','Ahad','Wadood','Yusra','Asma'}\n",
    "print(\"My top scoring Students in Programming Fundamentals are : \",my_topStudents)\n",
    "print(\"Oh! I guess I missed one student, let me add him \")\n",
    "print(\"Previously I have added \" +str(len(my_topStudents))+ ' Students in my list')\n",
    "my_topStudents.add('Khurram Khalil')\n",
    "my_topStudents.add('Khurram Khan')\n",
    "print('thanks ! I have remembered him')\n",
    "print(\"After adding I have \" +str(len(my_topStudents))+ ' Students in my list')\n",
    "print('Oh! I have added one student with similar name,let me remove him')\n",
    "my_topStudents.remove('Khurram Khalil')\n",
    "print(\"Now my top scoring Students after removing extra names are : \",my_topStudents)\n",
    "print(\"After removing I have \" +str(len(my_topStudents))+ ' Students in my list')\n",
    "my_topStudents.discard('Khurram Khalil')\n",
    "print(\"Now my top scoring Students after removing extra names are : \",my_topStudents)\n",
    "print(\"After removing I have \" +str(len(my_topStudents))+ ' Students in my list')\n",
    "my_topStudents.pop()\n",
    "print(\"Now my top scoring Students after removing extra names are : \",my_topStudents)\n",
    "print(\"After removing I have \" +str(len(my_topStudents))+ ' Students in my list')"
   ]
  },
  {
   "cell_type": "code",
   "execution_count": 27,
   "metadata": {},
   "outputs": [
    {
     "name": "stdout",
     "output_type": "stream",
     "text": [
      "My top scoring Students in Programming Fundamentals are :  {'Rafeh', 'Ahad', 'Wadood', 'Yusra', 'Asma', 'Bassam', 'Usman'}\n",
      "Lets clear this list and prepare new list for the final exams\n",
      "After clearing the set I have :  None\n"
     ]
    }
   ],
   "source": [
    "#Question 9\n",
    "my_topStudents = {'Bassam','Usman','Rafeh','Ahad','Wadood','Yusra','Asma'}\n",
    "print(\"My top scoring Students in Programming Fundamentals are : \",my_topStudents)\n",
    "print(\"Lets clear this list and prepare new list for the final exams\")\n",
    "my_topStudents = my_topStudents.clear()\n",
    "print('After clearing the set I have : ',my_topStudents)"
   ]
  },
  {
   "cell_type": "code",
   "execution_count": 33,
   "metadata": {},
   "outputs": [
    {
     "name": "stdout",
     "output_type": "stream",
     "text": [
      "The Union of Phonebook1 and Phonebook 3 :  {'234-56-78', '456-78-90', '345-67-89', '123-45-67'}\n",
      "The Intersection of Phonebook1 and Phonebook3 :  {'345-67-89'}\n",
      "The Intersection of Phonebook3 and Phonebook1 :  {'345-67-89'}\n",
      "The Difference between Phonebook1 and Phonebook3 :  {'234-56-78', '123-45-67'}\n",
      "The Difference between Phonebook3 and Phonebook1 :  {'456-78-90'}\n",
      "The Symmetric Difference between Phonebook1 and Phonebook3 :  {'234-56-78', '456-78-90', '123-45-67'}\n",
      "The Symmetric Difference between Phonebook3 and Phonebook1 :  {'234-56-78', '456-78-90', '123-45-67'}\n"
     ]
    }
   ],
   "source": [
    "#Question 10\n",
    "phonebook1 = {'123-45-67','234-56-78','345-67-89','123-45-67','345-67-89'}\n",
    "phonebook3 = {'345-67-89','456-78-90'}\n",
    "print(\"The Union of Phonebook1 and Phonebook 3 : \",phonebook1 | phonebook3)\n",
    "print(\"The Intersection of Phonebook1 and Phonebook3 : \",phonebook1 & phonebook3)\n",
    "print(\"The Intersection of Phonebook3 and Phonebook1 : \",phonebook3 & phonebook1)\n",
    "print('The Difference between Phonebook1 and Phonebook3 : ',phonebook1-phonebook3)\n",
    "print('The Difference between Phonebook3 and Phonebook1 : ',phonebook3-phonebook1)\n",
    "print('The Symmetric Difference between Phonebook1 and Phonebook3 : ',phonebook1^phonebook3)\n",
    "print('The Symmetric Difference between Phonebook3 and Phonebook1 : ',phonebook3^phonebook1)"
   ]
  }
 ],
 "metadata": {
  "kernelspec": {
   "display_name": "Python 3",
   "language": "python",
   "name": "python3"
  },
  "language_info": {
   "codemirror_mode": {
    "name": "ipython",
    "version": 3
   },
   "file_extension": ".py",
   "mimetype": "text/x-python",
   "name": "python",
   "nbconvert_exporter": "python",
   "pygments_lexer": "ipython3",
   "version": "3.7.3"
  }
 },
 "nbformat": 4,
 "nbformat_minor": 2
}
