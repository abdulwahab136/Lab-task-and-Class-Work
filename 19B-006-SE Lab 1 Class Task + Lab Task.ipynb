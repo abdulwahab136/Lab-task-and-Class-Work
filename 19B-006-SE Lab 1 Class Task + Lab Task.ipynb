{
 "cells": [
  {
   "cell_type": "code",
   "execution_count": null,
   "metadata": {},
   "outputs": [],
   "source": [
    "name = input(\"what is your name :\")\n",
    "age = int(input(\"How old are you : \"))\n",
    "year = str((2019-age)+100)\n",
    "print(name + \"  will be 100 years old in the year   \" + year)"
   ]
  },
  {
   "cell_type": "code",
   "execution_count": null,
   "metadata": {},
   "outputs": [],
   "source": [
    "print(\"Twinkle, twhinke, little star, \\n\\tHow I wonder what you are! \\n\\t\\tUp above the world so high,\\n\\t\\tLike a Diamond in the sky. \\nTwinkle, twinkle, little star, \\n\\tHow I wonder what you are!\")"
   ]
  },
  {
   "cell_type": "code",
   "execution_count": null,
   "metadata": {},
   "outputs": [],
   "source": [
    "import datetime\n",
    "now = datetime.datetime.now()\n",
    "print (\"Current date and time :\")\n",
    "print (now.strftime(\"%Y-%m-%d %H:%M:%S\"))\n"
   ]
  },
  {
   "cell_type": "code",
   "execution_count": null,
   "metadata": {},
   "outputs": [],
   "source": [
    "from math import pi\n",
    "r = float(input(\"Input the radius of the circle :\"))\n",
    "print(\"the area of the circle with radius\" + str(r) + \" is:\" + str(pi * r **2))\n"
   ]
  },
  {
   "cell_type": "code",
   "execution_count": null,
   "metadata": {},
   "outputs": [],
   "source": [
    "fname = input(\"Input Your First Name : \")\n",
    "lname = input(\"Input Your Last Name : \")\n",
    "print (\"Hello \" + lname +\" \" + fname )"
   ]
  },
  {
   "cell_type": "code",
   "execution_count": null,
   "metadata": {},
   "outputs": [],
   "source": [
    "import calendar\n",
    "y =int(input(\"Input the year : \"))\n",
    "m =int(input(\"Input the month : \"))\n",
    "print(calendar.month(y,m))"
   ]
  },
  {
   "cell_type": "code",
   "execution_count": null,
   "metadata": {},
   "outputs": [],
   "source": [
    "C = float(input(\"Enter Tempreture in Degree Centigrade: \"))\n",
    "far = ((C*9/5)+32)\n",
    "print(\"the \" +str(C)+ \"C in Fahrenhiet is  \" + str(far))"
   ]
  },
  {
   "cell_type": "code",
   "execution_count": null,
   "metadata": {},
   "outputs": [],
   "source": [
    "F= float(input(\"Enter Tempreture in Fahrenheit: \"))\n",
    "Cal = ((F-32)*5/9)\n",
    "print(\"the \" +str(F)+ \"F in Centigrade is  \" + str(Cal))"
   ]
  },
  {
   "cell_type": "code",
   "execution_count": null,
   "metadata": {},
   "outputs": [],
   "source": [
    "l = float(input(\"Enter Length of rectangle : \"))\n",
    "b = float(input( \"Enter Bredth of rectangle : \"))\n",
    "print(\"Area of Rectangle is : \"+str(l*b))"
   ]
  },
  {
   "cell_type": "code",
   "execution_count": null,
   "metadata": {},
   "outputs": [],
   "source": [
    "from math import pi\n",
    "r = float(input(\"Enter Radius of the Sphere : \"))\n",
    "print(\"Volume of Sphere is : \"+ str(4/3 * pi * r**3))"
   ]
  },
  {
   "cell_type": "code",
   "execution_count": null,
   "metadata": {},
   "outputs": [],
   "source": [
    "Name = input(\"Input Your Name : \")\n",
    "print(Name.lower())\n",
    "print(Name.upper())\n",
    "print(Name.title())"
   ]
  },
  {
   "cell_type": "code",
   "execution_count": null,
   "metadata": {},
   "outputs": [],
   "source": []
  },
  {
   "cell_type": "code",
   "execution_count": 4,
   "metadata": {},
   "outputs": [
    {
     "name": "stdout",
     "output_type": "stream",
     "text": [
      "Input Your Name : AaaJSiASUaSKlajskl\n",
      "aaajsiasuasklajskl\n",
      "AAAJSIASUASKLAJSKL\n",
      "Aaajsiasuasklajskl\n"
     ]
    }
   ],
   "source": []
  }
 ],
 "metadata": {
  "kernelspec": {
   "display_name": "Python 3",
   "language": "python",
   "name": "python3"
  },
  "language_info": {
   "codemirror_mode": {
    "name": "ipython",
    "version": 3
   },
   "file_extension": ".py",
   "mimetype": "text/x-python",
   "name": "python",
   "nbconvert_exporter": "python",
   "pygments_lexer": "ipython3",
   "version": "3.7.3"
  }
 },
 "nbformat": 4,
 "nbformat_minor": 2
}
