{
 "cells": [
  {
   "cell_type": "code",
   "execution_count": 1,
   "metadata": {},
   "outputs": [
    {
     "name": "stdout",
     "output_type": "stream",
     "text": [
      "Number of lines :  3\n",
      "Number of characters :  111\n",
      "Number of Words :  16\n"
     ]
    }
   ],
   "source": [
    "#Question 1\n",
    "def stats(filename):\n",
    "    infile = open(filename,'r')\n",
    "    content = infile.read()\n",
    "    lines = content.count('\\n')+1\n",
    "    words = content.split()\n",
    "    print(\"Number of lines : \",lines)\n",
    "    print(\"Number of characters : \",len(content))\n",
    "    print(\"Number of Words : \",len(words))\n",
    "stats('sentence.txt')"
   ]
  },
  {
   "cell_type": "code",
   "execution_count": 2,
   "metadata": {},
   "outputs": [
    {
     "name": "stdout",
     "output_type": "stream",
     "text": [
      "6  Students got A\n",
      "3  Students got A-\n",
      "3  Students got B+\n",
      "3  Students got B\n",
      "5  Students got B-\n",
      "2  Students got C\n",
      "3  Students got C-\n",
      "3  Students got F\n"
     ]
    }
   ],
   "source": [
    "#Question 2\n",
    "def distribution(y):\n",
    "    infile = open(y,'r')\n",
    "    file = infile.read()\n",
    "    z = file.split()\n",
    "    print(z.count(\"A\"),' Students got A')\n",
    "    print(z.count(\"A-\"),' Students got A-')\n",
    "    print(z.count(\"B+\"),' Students got B+')\n",
    "    print(z.count(\"B\"),' Students got B')\n",
    "    print(z.count(\"B-\"),' Students got B-')\n",
    "    print(z.count(\"C\"),' Students got C')\n",
    "    print(z.count(\"C-\"),' Students got C-')\n",
    "    print(z.count(\"F\"),' Students got F')\n",
    "    \n",
    "distribution('grades.txt')"
   ]
  },
  {
   "cell_type": "code",
   "execution_count": 4,
   "metadata": {},
   "outputs": [
    {
     "data": {
      "text/plain": [
       "'False'"
      ]
     },
     "execution_count": 4,
     "metadata": {},
     "output_type": "execute_result"
    }
   ],
   "source": [
    "#Question 3\n",
    "def duplicate(a):\n",
    "    infile = open(a,'r')\n",
    "    file = infile.read()\n",
    "    z = file.split()\n",
    "    y = []\n",
    "    for i in z :\n",
    "        if i in y:\n",
    "            return(\"False\")\n",
    "         \n",
    "        else:\n",
    "            c = y.append(i)\n",
    "    return(\"True\")\n",
    "        \n",
    "duplicate('sentence.txt')           "
   ]
  },
  {
   "cell_type": "code",
   "execution_count": 142,
   "metadata": {},
   "outputs": [],
   "source": [
    "#Question 4\n",
    "def abc(x):\n",
    "    file = open(x,'r+')\n",
    "    filer = file.read()\n",
    "    z = filer.split()\n",
    "    file.write('\\n')\n",
    "    for i in z:\n",
    "        if len(i)==4:\n",
    "            i = 'xxxx'\n",
    "            file.write(\"{0} \".format(i))\n",
    "            \n",
    "        else:\n",
    "            file.write(\"{0} \".format(i))\n",
    "abc('crypto.txt')"
   ]
  }
 ],
 "metadata": {
  "kernelspec": {
   "display_name": "Python 3",
   "language": "python",
   "name": "python3"
  },
  "language_info": {
   "codemirror_mode": {
    "name": "ipython",
    "version": 3
   },
   "file_extension": ".py",
   "mimetype": "text/x-python",
   "name": "python",
   "nbconvert_exporter": "python",
   "pygments_lexer": "ipython3",
   "version": "3.7.3"
  }
 },
 "nbformat": 4,
 "nbformat_minor": 2
}
