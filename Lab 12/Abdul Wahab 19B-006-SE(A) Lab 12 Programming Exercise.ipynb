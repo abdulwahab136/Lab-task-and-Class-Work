{
 "cells": [
  {
   "cell_type": "code",
   "execution_count": 17,
   "metadata": {},
   "outputs": [
    {
     "data": {
      "text/plain": [
       "[12, 24, 36, 48, 60, 72, 84, 96, 108, 120, 132, 144]"
      ]
     },
     "execution_count": 17,
     "metadata": {},
     "output_type": "execute_result"
    }
   ],
   "source": [
    "#Question 1\n",
    "global lst\n",
    "lst = []\n",
    "for i in range(1,145):\n",
    "    lst.append(i)\n",
    "\n",
    "\n",
    "def tables(numb):\n",
    "    output = [var for var in lst if var % numb == 0]\n",
    "    return(output)\n",
    "tables(12)"
   ]
  },
  {
   "cell_type": "code",
   "execution_count": 18,
   "metadata": {},
   "outputs": [
    {
     "name": "stdout",
     "output_type": "stream",
     "text": [
      "Positive List is :  [1, 2, 3]\n",
      "Negative list is :  [-4, -5, -6, -1, -4]\n"
     ]
    }
   ],
   "source": [
    "#Question 2\n",
    "lst = [1,2,3,-4,-5,-6,-1,-4]\n",
    "def seprator(lst):\n",
    "    positive_lst = [var for var in lst if var > 0]\n",
    "    negative_lst = [var for var in lst if var < 0]\n",
    "    print(\"Positive List is : \",positive_lst)\n",
    "    print(\"Negative list is : \",negative_lst)\n",
    "\n",
    "seprator(lst)"
   ]
  },
  {
   "cell_type": "code",
   "execution_count": 27,
   "metadata": {},
   "outputs": [
    {
     "name": "stdout",
     "output_type": "stream",
     "text": [
      "{14: [], 28: [], 42: [], 56: [], 70: [], 84: [], 98: []}\n"
     ]
    }
   ],
   "source": [
    "#Question 3\n",
    "\n",
    "dict1 = {key:[] for key in range(1,100) if key > 5 if key % 2 == 0 if key % 7 == 0}\n",
    "print(dict1)"
   ]
  },
  {
   "cell_type": "code",
   "execution_count": 24,
   "metadata": {},
   "outputs": [
    {
     "name": "stdout",
     "output_type": "stream",
     "text": [
      "{1: {'Osama', '27', 25000, 'CS', 'Male', 'Yes'}, 2: {20000, '22', 'CS', 'Ali', 'No', 'Male'}, 3: {'24', 'Ahmed', 'Female', 18000, 'No', 'EE'}}\n"
     ]
    }
   ],
   "source": [
    "#Question 4\n",
    "employees = {1: {'name': 'Osama', 'age': '27', 'sex': 'Male','married' : 'Yes', 'department' : 'CS' , 'Salary' : 25000},\n",
    "          2: {'name': 'Ali', 'age': '22', 'sex': 'Male','married' : 'No' , 'department' : 'CS' , 'Salary' : 20000},\n",
    "          3: {'name': 'Ahmed', 'age': '24', 'sex': 'Female', 'married': 'No', 'department' : 'EE' , 'Salary' : 18000}}\n",
    "\n",
    "dict1 = {outer_k:{(inner_v) for (inner_k,inner_v) in outer_v.items()} for (outer_k,outer_v) in employees.items()}\n",
    "\n",
    "print(dict1)\n"
   ]
  },
  {
   "cell_type": "code",
   "execution_count": 61,
   "metadata": {},
   "outputs": [
    {
     "name": "stdout",
     "output_type": "stream",
     "text": [
      "Filter Command :  [2, 4, 6, 8]\n",
      "Map Command :  [2, 4, 6, 8, 10, 12, 14, 16]\n",
      "reduce function :  36\n"
     ]
    }
   ],
   "source": [
    "#Question 5\n",
    "from functools import reduce\n",
    "lst = [1,2,3,4,5,6,7,8]\n",
    "\n",
    "#filter command is used to filter the data according to given conditions\n",
    "print(\"Filter Command : \",list(filter(lambda x: x % 2 == 0, lst)))\n",
    "\n",
    "#map function apply the given function to all the given elements \n",
    "print(\"Map Command : \",list(map(lambda x: x*2,lst)))\n",
    "\n",
    "#Reduce functions runs the function until a single value is achieved\n",
    "print(\"reduce function : \",reduce(lambda x, y: x+y, lst))\n"
   ]
  },
  {
   "cell_type": "code",
   "execution_count": 56,
   "metadata": {},
   "outputs": [
    {
     "name": "stdout",
     "output_type": "stream",
     "text": [
      "Table of 3 : [3, 6, 9, 12, 15, 18, 21, 24, 27, 30]\n"
     ]
    }
   ],
   "source": [
    "#Question 6\n",
    "def table_lam(num):\n",
    "    table = list(map(lambda x : x * num, range(1,11)))\n",
    "    print(\"Table of {0} : {1}\".format(num,table))\n",
    "table_lam(3)"
   ]
  }
 ],
 "metadata": {
  "kernelspec": {
   "display_name": "Python 3",
   "language": "python",
   "name": "python3"
  },
  "language_info": {
   "codemirror_mode": {
    "name": "ipython",
    "version": 3
   },
   "file_extension": ".py",
   "mimetype": "text/x-python",
   "name": "python",
   "nbconvert_exporter": "python",
   "pygments_lexer": "ipython3",
   "version": "3.7.3"
  }
 },
 "nbformat": 4,
 "nbformat_minor": 2
}
