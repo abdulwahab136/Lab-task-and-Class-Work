{
 "cells": [
  {
   "cell_type": "code",
   "execution_count": 7,
   "metadata": {},
   "outputs": [
    {
     "name": "stdout",
     "output_type": "stream",
     "text": [
      "Enter length of square : 5\n",
      "Enter radius of Circle : 7\n",
      "Area of Square = 10 cm^2\n",
      "Area of Circle = 153.93804002589985 cm^2\n",
      "Subtracting Area of Square from Area of Circle , Remaining Area is :  143.93804002589985 cm^2\n"
     ]
    }
   ],
   "source": [
    "from math import pi\n",
    "def RemainingArea():\n",
    "    length=eval(input(\"Enter length of square : \"))\n",
    "    radius=eval(input(\"Enter radius of Circle : \"))\n",
    "    #Area of Square\n",
    "    Asquare = 2 * length\n",
    "    print(\"Area of Square =\",Asquare,\"cm^2\")\n",
    "    Acircle = pi * radius**2\n",
    "    print(\"Area of Circle =\",Acircle,\"cm^2\")\n",
    "    \n",
    "    if Asquare > Acircle :\n",
    "        Remaining = Asquare-Acircle\n",
    "        print(\"Subtracting Area of Circle from Area of Square , Remaining Area is : \",Remaining,\"cm^2\")\n",
    "    elif Acircle > Asquare :\n",
    "        Remaining = Acircle-Asquare\n",
    "        print(\"Subtracting Area of Square from Area of Circle , Remaining Area is : \",Remaining,\"cm^2\")\n",
    "RemainingArea()"
   ]
  },
  {
   "cell_type": "code",
   "execution_count": null,
   "metadata": {},
   "outputs": [],
   "source": []
  }
 ],
 "metadata": {
  "kernelspec": {
   "display_name": "Python 3",
   "language": "python",
   "name": "python3"
  },
  "language_info": {
   "codemirror_mode": {
    "name": "ipython",
    "version": 3
   },
   "file_extension": ".py",
   "mimetype": "text/x-python",
   "name": "python",
   "nbconvert_exporter": "python",
   "pygments_lexer": "ipython3",
   "version": "3.7.3"
  }
 },
 "nbformat": 4,
 "nbformat_minor": 2
}
