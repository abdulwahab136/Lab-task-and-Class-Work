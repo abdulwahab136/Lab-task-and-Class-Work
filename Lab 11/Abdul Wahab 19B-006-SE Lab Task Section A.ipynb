{
 "cells": [
  {
   "cell_type": "code",
   "execution_count": 2,
   "metadata": {},
   "outputs": [
    {
     "name": "stdout",
     "output_type": "stream",
     "text": [
      "Razer is 6 years old\n",
      "Razer says woof woof\n"
     ]
    }
   ],
   "source": [
    "#Program 1\n",
    "class dog:\n",
    "    species = 'Mamals'\n",
    "    def __init__(self,name,age):\n",
    "        self.name = name\n",
    "        self.age = age\n",
    "    \n",
    "    def description(self):\n",
    "        return\"{} is {} years old\".format(self.name,self.age)\n",
    "    \n",
    "    def speak(self,sound):\n",
    "        return\"{} says {}\".format(self.name,sound)\n",
    "    \n",
    "razer = dog(\"Razer\",6)\n",
    "\n",
    "print(razer.description())\n",
    "print(razer.speak(\"woof woof\"))"
   ]
  },
  {
   "cell_type": "code",
   "execution_count": 14,
   "metadata": {},
   "outputs": [
    {
     "name": "stdout",
     "output_type": "stream",
     "text": [
      "Thunder is 19 years old\n",
      "Thunder runs slowly\n",
      "sprinter is 12 years old\n",
      "sprinter runs fast\n"
     ]
    }
   ],
   "source": [
    "#program 2\n",
    "class dog:\n",
    "    species = 'Mamals'\n",
    "    def __init__(self,name,age):\n",
    "        self.name = name\n",
    "        self.age = age\n",
    "    \n",
    "    def description(self):\n",
    "        return\"{} is {} years old\".format(self.name,self.age)\n",
    "    \n",
    "    def speak(self,sound):\n",
    "        return\"{} says {}\".format(self.name,sound)\n",
    "    \n",
    "class Huskey(dog):\n",
    "    def run(self, speed):\n",
    "        return \"{} runs {}\".format(self.name,speed)\n",
    "    \n",
    "class Bulldog(dog):\n",
    "    def run(self,speed):\n",
    "        return \"{} runs {}\".format(self.name,speed)\n",
    "    \n",
    "thunder = Bulldog(\"Thunder\",19)\n",
    "print(thunder.description())\n",
    "\n",
    "print(thunder.run(\"slowly\"))\n",
    "\n",
    "sprinter = Huskey(\"sprinter\",12)\n",
    "print(sprinter.description())\n",
    "print(sprinter.run(\"fast\"))\n"
   ]
  },
  {
   "cell_type": "code",
   "execution_count": 11,
   "metadata": {},
   "outputs": [
    {
     "name": "stdout",
     "output_type": "stream",
     "text": [
      "Thunder is 19 years old\n",
      "Thunder runs slowly\n",
      "True\n",
      "True\n",
      "True\n"
     ]
    },
    {
     "ename": "TypeError",
     "evalue": "isinstance() arg 2 must be a type or tuple of types",
     "output_type": "error",
     "traceback": [
      "\u001b[1;31m---------------------------------------------------------------------------\u001b[0m",
      "\u001b[1;31mTypeError\u001b[0m                                 Traceback (most recent call last)",
      "\u001b[1;32m<ipython-input-11-3cd1bc4b8785>\u001b[0m in \u001b[0;36m<module>\u001b[1;34m()\u001b[0m\n\u001b[0;32m     33\u001b[0m \u001b[0mprint\u001b[0m\u001b[1;33m(\u001b[0m\u001b[0misinstance\u001b[0m\u001b[1;33m(\u001b[0m\u001b[0mKate\u001b[0m\u001b[1;33m,\u001b[0m\u001b[0mdog\u001b[0m\u001b[1;33m)\u001b[0m\u001b[1;33m)\u001b[0m\u001b[1;33m\u001b[0m\u001b[0m\n\u001b[0;32m     34\u001b[0m \u001b[1;33m\u001b[0m\u001b[0m\n\u001b[1;32m---> 35\u001b[1;33m \u001b[0mprint\u001b[0m\u001b[1;33m(\u001b[0m\u001b[0misinstance\u001b[0m\u001b[1;33m(\u001b[0m\u001b[0mthunder_kid\u001b[0m\u001b[1;33m,\u001b[0m\u001b[0mKate\u001b[0m\u001b[1;33m)\u001b[0m\u001b[1;33m)\u001b[0m\u001b[1;33m\u001b[0m\u001b[0m\n\u001b[0m",
      "\u001b[1;31mTypeError\u001b[0m: isinstance() arg 2 must be a type or tuple of types"
     ]
    }
   ],
   "source": [
    "#program 3 Error\n",
    "class dog:\n",
    "    species = 'Mamals'\n",
    "    def __init__(self,name,age):\n",
    "        self.name = name\n",
    "        self.age = age\n",
    "    \n",
    "    def description(self):\n",
    "        return\"{} is {} years old\".format(self.name,self.age)\n",
    "    \n",
    "    def speak(self,sound):\n",
    "        return\"{} says {}\".format(self.name,sound)\n",
    "    \n",
    "class Huskey(dog):\n",
    "    def run(self, speed):\n",
    "        return \"{} runs {}\".format(self.name,speed)\n",
    "    \n",
    "class Bulldog(dog):\n",
    "    def run(self,speed):\n",
    "        return \"{} runs {}\".format(self.name,speed)\n",
    "    \n",
    "thunder = Bulldog(\"Thunder\",19)\n",
    "print(thunder.description())\n",
    "\n",
    "print(thunder.run(\"slowly\"))\n",
    "\n",
    "print(isinstance(thunder,dog))\n",
    "\n",
    "thunder_kid = dog(\"thunder kid\",2)\n",
    "print(isinstance(thunder,dog))\n",
    "\n",
    "Kate = Huskey(\"Kate\",4)\n",
    "print(isinstance(Kate,dog))\n",
    "\n",
    "print(isinstance(thunder_kid,Kate))"
   ]
  },
  {
   "cell_type": "code",
   "execution_count": 12,
   "metadata": {},
   "outputs": [
    {
     "name": "stdout",
     "output_type": "stream",
     "text": [
      "Thunder is 19 years old\n",
      "Thunder runs slowly\n",
      "True\n",
      "True\n",
      "True\n",
      "True\n"
     ]
    }
   ],
   "source": [
    "#program 3 Error Free\n",
    "\n",
    "class dog:\n",
    "    species = 'Mamals'\n",
    "    def __init__(self,name,age):\n",
    "        self.name = name\n",
    "        self.age = age\n",
    "    \n",
    "    def description(self):\n",
    "        return\"{} is {} years old\".format(self.name,self.age)\n",
    "    \n",
    "    def speak(self,sound):\n",
    "        return\"{} says {}\".format(self.name,sound)\n",
    "    \n",
    "class Huskey(dog):\n",
    "    def run(self, speed):\n",
    "        return \"{} runs {}\".format(self.name,speed)\n",
    "    \n",
    "class Bulldog(dog):\n",
    "    def run(self,speed):\n",
    "        return \"{} runs {}\".format(self.name,speed)\n",
    "    \n",
    "thunder = Bulldog(\"Thunder\",19)\n",
    "print(thunder.description())\n",
    "\n",
    "print(thunder.run(\"slowly\"))\n",
    "\n",
    "print(isinstance(thunder,dog))\n",
    "\n",
    "thunder_kid = dog(\"thunder kid\",2)\n",
    "print(isinstance(thunder,dog))\n",
    "\n",
    "Kate = Huskey(\"Kate\",4)\n",
    "print(isinstance(Kate,dog))\n",
    "\n",
    "print(isinstance(thunder_kid,dog))"
   ]
  }
 ],
 "metadata": {
  "kernelspec": {
   "display_name": "Python 3",
   "language": "python",
   "name": "python3"
  },
  "language_info": {
   "codemirror_mode": {
    "name": "ipython",
    "version": 3
   },
   "file_extension": ".py",
   "mimetype": "text/x-python",
   "name": "python",
   "nbconvert_exporter": "python",
   "pygments_lexer": "ipython3",
   "version": "3.6.5"
  }
 },
 "nbformat": 4,
 "nbformat_minor": 2
}
