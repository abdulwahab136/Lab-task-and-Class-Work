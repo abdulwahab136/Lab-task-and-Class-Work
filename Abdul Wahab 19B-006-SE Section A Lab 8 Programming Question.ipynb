{
 "cells": [
  {
   "cell_type": "code",
   "execution_count": 5,
   "metadata": {},
   "outputs": [
    {
     "name": "stdout",
     "output_type": "stream",
     "text": [
      "{'Mother': 'Mrs Tanveer', 'Father': 'Tanveer', 'Brother': 'Abdur Rehman', 'Sister': 'xyz'}\n",
      "\n",
      "\n",
      "{'Mother': 'Mrs Tanveer', 'Father': 'Tanveer', 'Brother': 'Abdur Rehman', 'Sister': 'xyz', 'GrandParents': ['Dadi', 'Dada'], 'Uncle': ['Amir', 'Imran', 'Tahir'], 'Aunt': ['Mrs Amir', 'Mrs Imran', 'Mrs Tahir']}\n"
     ]
    }
   ],
   "source": [
    "#Question 1\n",
    "family = {'Mother':'Areeba','Father':'Zuhaib','Brother':'Esa','Sister':'Anabia'}\n",
    "print(family)\n",
    "family['GrandParents']= ['Dadi','Dada']\n",
    "family['Uncle'] = ['Amir','Imran','Tahir']\n",
    "family['Aunt'] = ['Mrs Amir','Mrs Imran','Mrs Tahir']\n",
    "print('\\n')\n",
    "print(family)"
   ]
  },
  {
   "cell_type": "code",
   "execution_count": 14,
   "metadata": {},
   "outputs": [
    {
     "name": "stdout",
     "output_type": "stream",
     "text": [
      "{'Tanveer': ['03232104458'], 'Amir': ['03232104457'], 'Adnan': ['03232104456'], 'Omer': ['03232104454'], 'Uncle 2': ['03455485246'], 'Samad': ['03458746541'], 'Aehtisham': ['03218745412'], 'Dr Aslam': ['03216546511'], 'Ismail': ['032484654213'], 'Mustafa': ['03248745421'], 'Mujtaba': ['03368456143']}\n"
     ]
    }
   ],
   "source": [
    "#Question 2\n",
    "familyno = {}\n",
    "def familyphone(Name,Number):\n",
    "    familyno[Name]=[Number]\n",
    "    \n",
    "    \n",
    "familyphone('Tanveer' ,'03232104458')\n",
    "familyphone('Amir' ,'03232104457')\n",
    "familyphone('Adnan','03232104456')\n",
    "familyphone('Omer','03232104454')\n",
    "familyphone('Uncle 1','03232104455')\n",
    "familyphone('Uncle 2','03455485246')\n",
    "familyphone('Samad','03458746541')\n",
    "familyphone('Aehtisham','03218745412')\n",
    "familyphone('Dr Aslam','03216546511')\n",
    "familyphone('Ismail','032484654213')\n",
    "familyphone('Mustafa','03248745421')\n",
    "familyphone('Mujtaba','03368456143')\n",
    "\n",
    "def rejectedfamily(name):\n",
    "    del familyno[name]\n",
    "\n",
    "rejectedfamily('Uncle 1')\n",
    "print(familyno)"
   ]
  },
  {
   "cell_type": "code",
   "execution_count": 11,
   "metadata": {},
   "outputs": [
    {
     "name": "stdout",
     "output_type": "stream",
     "text": [
      "{'a': ['61'], 'b': ['62'], 'c': ['63'], 'd': ['64'], 'e': ['65'], 'f': ['66'], 'g': ['67'], 'h': ['68'], 'i': ['69'], 'j': ['6a'], 'k': ['6b'], 'l': ['6c'], 'm': ['6d'], 'n': ['6e'], 'o': ['6f'], 'p': ['70'], 'q': ['71'], 'r': ['72'], 's': ['73'], 't': ['74'], 'u': ['75'], 'v': ['76'], 'w': ['77'], 'x': ['78'], 'y': ['79'], 'z': ['7a']}\n"
     ]
    }
   ],
   "source": [
    "#Question 3\n",
    "def hexASCII():\n",
    "    hexasi = {}\n",
    "    for i in range(97,123):\n",
    "       hexasi[chr(i)]=['{0:x}'.format(i)]\n",
    "    print(hexasi)\n",
    "hexASCII()    "
   ]
  },
  {
   "cell_type": "code",
   "execution_count": 63,
   "metadata": {},
   "outputs": [
    {
     "name": "stdout",
     "output_type": "stream",
     "text": [
      "My Favorite Dishes that has not been made and  : Qorma , Pilao , Bhindi , \n",
      "Number of Dishes made of my choice :  3\n"
     ]
    }
   ],
   "source": [
    "#Question 4\n",
    "myfavort = {'favorite' : ['Pizza','Biryani','Qorma','Nihari','Pilao','Bhindi']}\n",
    "cooked = {'mon':'Teenday','tue':'Tori','wed':'Biryani','thurs':'Nihari','fri':'Daal','sat':'Pizza'}\n",
    "\n",
    "\n",
    "cookd = cooked.values()\n",
    "favorite = myfavort['favorite']\n",
    "notmade = 0\n",
    "z = set(cookd)&set(favorite)\n",
    "print('My Favorite Dishes that has not been made : ',end=(\"\"))\n",
    "for i in favorite: \n",
    "    if i not in z :\n",
    "        print(i,end=(\" , \"))\n",
    "        notmade = notmade + 1\n",
    "    \n",
    "print('\\nNumber of Dishes made of my choice : ',notmade)"
   ]
  },
  {
   "cell_type": "code",
   "execution_count": 69,
   "metadata": {},
   "outputs": [
    {
     "name": "stdout",
     "output_type": "stream",
     "text": [
      "Family of MR Mr Omer      : ['Mr Omer', 'Mrs Omer', 'Ahmed', 'Pasha']\n",
      "Family of MR Mr Ahmed     : ['Mr Ahmed', 'Mrs Ahmed', 'Eisha', 'Ghaffar']\n",
      "Family of MR Mr Farhan    : ['Osama', 'Usman', 'Mr Farhan', 'Mrs Farhan']\n",
      "Family of MR Mr Basheer   : ['Mr Basheer', 'Mrs Basheer', 'Osama', 'Ahmed']\n",
      "Family of MR Mr Mujtaba   : ['Mr Mujtaba', 'Mrs Mujtaba', 'Ayesha', 'Umaima']\n",
      "Family of MR Mr Mehmood   : ['Ali', 'Usman', 'Mr Mehmood', 'Mrs Mehmood']\n",
      "Total Number of families  :  6\n",
      "Total Number of Guests    :  24\n"
     ]
    }
   ],
   "source": [
    "#Question 5\n",
    "parentlist = {'Mr Mehmood': ['Ali','Usman','Mr Mehmood','Mrs Mehmood'],\n",
    "             'Mr Ahmed' : ['Mr Ahmed','Mrs Ahmed','Eisha','Ghaffar'],\n",
    "              'Mr Omer' : ['Mr Omer','Mrs Omer','Ahmed','Pasha'],\n",
    "              'Mr Basheer' : ['Mr Basheer','Mrs Basheer','Osama','Ahmed'] }\n",
    "\n",
    "mylist = {'Mr Farhan': ['Osama','Usman','Mr Farhan','Mrs Farhan'],\n",
    "             'Mr Ahmed' : ['Mr Ahmed','Mrs Ahmed','Eisha','Ghaffar'],\n",
    "              'Mr Mujtaba' : ['Mr Mujtaba','Mrs Mujtaba','Ayesha','Umaima'],\n",
    "              'Mr Basheer' : ['Mr Basheer','Mrs Basheer','Osama','Ahmed']\n",
    "             }\n",
    "\n",
    "def totalguest(dic1,dic2):\n",
    "    count = 0\n",
    "    totalguest = 0\n",
    "    guestfamilies = set(mylist)|set(parentlist)\n",
    "    \n",
    "    for i in guestfamilies:\n",
    "        if i in parentlist:\n",
    "            guest = parentlist[i]\n",
    "            totalguest = totalguest + len(guest)\n",
    "            print(\"Family of MR {0:12} : {1}\".format(i,guest))\n",
    "        else:\n",
    "            guest = mylist[i]\n",
    "            totalguest = totalguest + len(guest)\n",
    "            print(\"Family of MR {0:12} : {1}\".format(i,guest))\n",
    "            \n",
    "    print('Total Number of families  : ',len(guestfamilies))   \n",
    "    print(\"Total Number of Guests    : \" ,totalguest)\n",
    "totalguest(parentlist,mylist)"
   ]
  }
 ],
 "metadata": {
  "kernelspec": {
   "display_name": "Python 3",
   "language": "python",
   "name": "python3"
  },
  "language_info": {
   "codemirror_mode": {
    "name": "ipython",
    "version": 3
   },
   "file_extension": ".py",
   "mimetype": "text/x-python",
   "name": "python",
   "nbconvert_exporter": "python",
   "pygments_lexer": "ipython3",
   "version": "3.7.3"
  }
 },
 "nbformat": 4,
 "nbformat_minor": 2
}
