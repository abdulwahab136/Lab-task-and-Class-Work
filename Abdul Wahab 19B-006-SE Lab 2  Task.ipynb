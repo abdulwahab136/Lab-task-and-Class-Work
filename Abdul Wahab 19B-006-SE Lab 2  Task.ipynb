{
 "cells": [
  {
   "cell_type": "code",
   "execution_count": null,
   "metadata": {},
   "outputs": [],
   "source": [
    "#programming Exercise Question 1\n",
    "from datetime import date\n",
    "\n",
    "date1= date(2016, 12 , 19)\n",
    "date2= date(2019, 10 , 12)\n",
    "diff= date2-date1\n",
    "print(diff.days)"
   ]
  },
  {
   "cell_type": "code",
   "execution_count": 10,
   "metadata": {},
   "outputs": [
    {
     "name": "stdout",
     "output_type": "stream",
     "text": [
      "For length 16 and angle 75 degree height is :15.454813220625093\n",
      "For length 20 and angle 0 degree height is :0.0\n",
      "For length 24 and angle 45 degree height is :16.970562748477143\n",
      "For length 24 and angle 80 degree height is :23.63538607229299\n"
     ]
    }
   ],
   "source": [
    "#Programming Exercise Question 2\n",
    "from math import sin\n",
    "from math import pi\n",
    "l1=(16)\n",
    "l2=(20)\n",
    "l3=(24)\n",
    "l4=(24)\n",
    "a1=(75)\n",
    "a2=(0)\n",
    "a3=(45)\n",
    "a4=(80)\n",
    "#Height for 1st ladder\n",
    "radians = pi * a1/180\n",
    "h1=l1*sin(radians)\n",
    "print(\"For length 16 and angle 75 degree height is :\" +str(h1))\n",
    "#Height for 2nd ladder\n",
    "radians = pi * a2/180\n",
    "h2=l2*sin(radians)\n",
    "print(\"For length 20 and angle 0 degree height is :\" +str(h2))\n",
    "#Height for 3rd ladder\n",
    "radians = pi * a3/180\n",
    "h3=l3*sin(radians)\n",
    "print(\"For length 24 and angle 45 degree height is :\" +str(h3))\n",
    "#Height for 4th ladder\n",
    "radians = pi * a4/180\n",
    "h4=l4*sin(radians)\n",
    "print(\"For length 24 and angle 80 degree height is :\" +str(h4))\n",
    "\n"
   ]
  },
  {
   "cell_type": "code",
   "execution_count": 3,
   "metadata": {},
   "outputs": [
    {
     "name": "stdout",
     "output_type": "stream",
     "text": [
      "1027\n"
     ]
    }
   ],
   "source": []
  },
  {
   "cell_type": "code",
   "execution_count": 2,
   "metadata": {},
   "outputs": [
    {
     "name": "stdout",
     "output_type": "stream",
     "text": [
      "39\n"
     ]
    }
   ],
   "source": []
  }
 ],
 "metadata": {
  "kernelspec": {
   "display_name": "Python 3",
   "language": "python",
   "name": "python3"
  },
  "language_info": {
   "codemirror_mode": {
    "name": "ipython",
    "version": 3
   },
   "file_extension": ".py",
   "mimetype": "text/x-python",
   "name": "python",
   "nbconvert_exporter": "python",
   "pygments_lexer": "ipython3",
   "version": "3.6.5"
  }
 },
 "nbformat": 4,
 "nbformat_minor": 2
}
