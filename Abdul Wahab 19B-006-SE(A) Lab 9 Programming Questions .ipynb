{
 "cells": [
  {
   "cell_type": "code",
   "execution_count": 1,
   "metadata": {},
   "outputs": [
    {
     "name": "stdout",
     "output_type": "stream",
     "text": [
      "Enter Name of best FriendAdnan\n",
      "Enter Name of best FriendIsmail\n",
      "Enter Name of best FriendOmer\n",
      "Enter Name of best FriendOsaid\n",
      "Enter Name of best FriendHumza\n",
      "Names of best friends :  {'Adnan', 'Ismail', 'Osaid', 'Humza', 'Omer'}\n"
     ]
    }
   ],
   "source": [
    "#Question 1\n",
    "bestfriend = set()\n",
    "for i in range(5):\n",
    "    name = input('Enter Name of best Friend')\n",
    "    bestfriend.add(name)\n",
    "print('Names of best friends : ',bestfriend)"
   ]
  },
  {
   "cell_type": "code",
   "execution_count": null,
   "metadata": {},
   "outputs": [],
   "source": []
  },
  {
   "cell_type": "code",
   "execution_count": 1,
   "metadata": {},
   "outputs": [
    {
     "name": "stdout",
     "output_type": "stream",
     "text": [
      "List of Students Originally :  {'Ismail', 'Ammar', 'Danish', 'Osaid', 'Adnan', 'Omer', 'Humza'}\n",
      "Number of Students Originally :  7\n",
      "After leaving List of Students are :  {'Ismail', 'Osaid', 'Adnan', 'Omer', 'Humza'}\n",
      "Number of Students After Leaving:  5\n"
     ]
    }
   ],
   "source": [
    "#Question 2\n",
    "students = {'Adnan', 'Ismail', 'Osaid', 'Humza', 'Omer','Danish','Ammar'}\n",
    "print('List of Students Originally : ',students)\n",
    "print('Number of Students Originally : ',len(students))\n",
    "students.remove('Danish')\n",
    "students.discard('Ammar')\n",
    "print('After leaving List of Students are : ',students)\n",
    "print('Number of Students After Leaving: ',len(students))"
   ]
  },
  {
   "cell_type": "code",
   "execution_count": 3,
   "metadata": {},
   "outputs": [
    {
     "name": "stdout",
     "output_type": "stream",
     "text": [
      "Originally the dish list is :  {'Pizza', 'Haleem', 'Qorma', 'Biryani', 'Nihari'}\n",
      "After poping Set of Best Dishes is :  {'Haleem', 'Qorma', 'Biryani', 'Nihari'}\n",
      "After poping Set of Best Dishes is :  {'Qorma', 'Biryani', 'Nihari'}\n",
      "After poping Set of Best Dishes is :  {'Biryani', 'Nihari'}\n",
      "After poping Set of Best Dishes is :  {'Nihari'}\n",
      "After poping Set of Best Dishes is :  set()\n"
     ]
    }
   ],
   "source": [
    "#Question 3\n",
    "bestdishes = {'Qorma','Biryani','Pizza','Nihari','Haleem'}\n",
    "print('Originally the dish list is : ',bestdishes)\n",
    "while len(bestdishes) > 0:\n",
    "    bestdishes.pop()\n",
    "    print(\"After poping Set of Best Dishes is : \",bestdishes)"
   ]
  },
  {
   "cell_type": "code",
   "execution_count": 7,
   "metadata": {},
   "outputs": [
    {
     "name": "stdout",
     "output_type": "stream",
     "text": [
      "Enter the item Orange or Mango or AppleApple\n",
      "Enter the item Orange or Mango or AppleApple\n",
      "Enter the item Orange or Mango or AppleMango\n",
      "Enter the item Orange or Mango or AppleMango\n",
      "Enter the item Orange or Mango or Appleorange\n",
      "Enter the item Orange or Mango or Appleapple\n",
      "Enter the item Orange or Mango or Applestop\n",
      "Number of Oranges Sold :  1\n",
      "Number of Mangoes Sold :  2\n",
      "Number of Apples Sold :  3\n",
      "Apples is Sold the most\n",
      "Orange is Sold the least\n"
     ]
    }
   ],
   "source": [
    "#Question 4\n",
    "Apples = {1,2,3,4,5,6,7,8,9,10,11,12}\n",
    "lenApples = len(Apples)\n",
    "Mango = {1,2,3,4,5,6,7,8}\n",
    "lenMango = len(Mango)\n",
    "Orange = {1,2,3,4,5,6,7,8,9}\n",
    "lenOrange = len(Orange)\n",
    "shop = 'open'\n",
    "while shop == 'open':\n",
    "    item = input(\"Enter the item Orange or Mango or Apple\")\n",
    "    item = item.lower()\n",
    "    if item == 'orange':\n",
    "        Orange.pop()\n",
    "    elif item == 'mango':\n",
    "        Mango.pop()\n",
    "    elif item == 'apple':\n",
    "        Apples.pop()\n",
    "    else:\n",
    "        break\n",
    "lenOrangeEnd = lenOrange-len(Orange)\n",
    "lenApplesEnd = lenApples - len(Apples)\n",
    "lenMangoEnd = lenMango - len(Mango)\n",
    "print(\"Number of Oranges Sold : \",lenOrangeEnd)\n",
    "print(\"Number of Mangoes Sold : \",lenMangoEnd)\n",
    "print(\"Number of Apples Sold : \",lenApplesEnd)\n",
    "\n",
    "\n",
    "maxsold = max(lenOrangeEnd,lenApplesEnd,lenMangoEnd)\n",
    "if maxsold == lenOrangeEnd:\n",
    "    print(\"Orange is Sold the most\")\n",
    "elif maxsold == lenMangoEnd:\n",
    "    print(\"Mango is Sold the most\")\n",
    "else:\n",
    "    print('Apples is Sold the most')\n",
    "\n",
    "minsold = min(lenOrangeEnd,lenApplesEnd,lenMangoEnd)    \n",
    "if minsold == lenOrangeEnd:\n",
    "    print(\"Orange is Sold the least\")\n",
    "elif minsold == lenMangoEnd:\n",
    "    print(\"Mango is Sold the least\")\n",
    "else:\n",
    "    print('Apples is Sold the least')"
   ]
  },
  {
   "cell_type": "code",
   "execution_count": 9,
   "metadata": {},
   "outputs": [
    {
     "name": "stdout",
     "output_type": "stream",
     "text": [
      "Number of Students that only play Hockey :  11\n",
      "Number of Students that only plays Cricket :  19\n",
      "Number of Students that plays both cricket and hockey :  10\n"
     ]
    }
   ],
   "source": [
    "#Question 5\n",
    "Hockey = 21\n",
    "UniversalSet = 40\n",
    "Both = 10\n",
    "OnlyHockey = Hockey-Both\n",
    "print(\"Number of Students that only play Hockey : \",OnlyHockey)\n",
    "OnlyCricket = UniversalSet-OnlyHockey-Both\n",
    "print(\"Number of Students that only plays Cricket : \",OnlyCricket)\n",
    "print(\"Number of Students that plays both cricket and hockey : \",Both)"
   ]
  },
  {
   "cell_type": "code",
   "execution_count": 2,
   "metadata": {},
   "outputs": [
    {
     "name": "stdout",
     "output_type": "stream",
     "text": [
      "Dog Products Only :  50\n",
      "Cat Products Only :  66\n",
      "Dog or A fish Product :  60\n",
      "Total purchases :  197\n"
     ]
    }
   ],
   "source": [
    "#Question 6\n",
    "Dog = 83\n",
    "cat = 101\n",
    "fish = 22\n",
    "DC = 25\n",
    "DF = 2\n",
    "CF = 4\n",
    "DFC = 6\n",
    "Other = 34\n",
    "DogOnly = Dog - DC - DF - DFC\n",
    "print('Dog Products Only : ',DogOnly)\n",
    "CatOnly = cat - DC - CF - DFC\n",
    "print('Cat Products Only : ',CatOnly)\n",
    "FishOnly = fish - CF - DF - DFC\n",
    "print('Dog or A fish Product : ',FishOnly+DogOnly)\n",
    "totalpurchase = DF+DC+CF+DFC+Other+FishOnly+CatOnly+DogOnly\n",
    "print(\"Total purchases : \",totalpurchase)\n"
   ]
  },
  {
   "cell_type": "code",
   "execution_count": 1,
   "metadata": {},
   "outputs": [
    {
     "name": "stdout",
     "output_type": "stream",
     "text": [
      "Speak Neither of these Language :  5\n",
      "Only English and Spanish but not french :  20\n",
      "Speak French but not english not spanish :  11\n",
      "Only One of the Language :  46\n",
      "Two of Three Language :  46\n"
     ]
    }
   ],
   "source": [
    "#Question 7\n",
    "OnlyEnglish = 25\n",
    "OnlyFrench = 11\n",
    "OnlySpanish = 10\n",
    "SPF = 13\n",
    "SF = 9\n",
    "EF = 17\n",
    "SE = 20\n",
    "Noneofthem = 110-(OnlyEnglish + OnlyFrench+OnlySpanish+SPF + SF + EF + SE)\n",
    "print(\"Speak Neither of these Language : \",Noneofthem)\n",
    "print('Only English and Spanish but not french : ',SE)\n",
    "print(\"Speak French but not english not spanish : \",OnlyFrench)\n",
    "print(\"Only One of the Language : \",OnlyEnglish + OnlyFrench + OnlySpanish)\n",
    "print(\"Two of Three Language : \",SF+EF+SE)"
   ]
  },
  {
   "cell_type": "code",
   "execution_count": 2,
   "metadata": {},
   "outputs": [
    {
     "name": "stdout",
     "output_type": "stream",
     "text": [
      "Originally the dish list is :  {'Nihari', 'Pizza', 'Biryani', 'Haleem', 'Qorma'}\n",
      "After poping Set of Best Dishes is :  {'Pizza', 'Biryani', 'Haleem', 'Qorma'}\n",
      "After poping Set of Best Dishes is :  {'Biryani', 'Haleem', 'Qorma'}\n",
      "After poping Set of Best Dishes is :  {'Haleem', 'Qorma'}\n",
      "After poping Set of Best Dishes is :  {'Qorma'}\n",
      "After poping Set of Best Dishes is :  set()\n"
     ]
    }
   ],
   "source": [
    "#Question 3\n",
    "bestdishes = {'Qorma','Biryani','Pizza','Nihari','Haleem'}\n",
    "print('Originally the dish list is : ',bestdishes)\n",
    "for i in range (len(bestdishes)):\n",
    "    bestdishes.pop()\n",
    "    print(\"After poping Set of Best Dishes is : \",bestdishes)"
   ]
  },
  {
   "cell_type": "code",
   "execution_count": 5,
   "metadata": {},
   "outputs": [
    {
     "ename": "TypeError",
     "evalue": "'str' object cannot be interpreted as an integer",
     "output_type": "error",
     "traceback": [
      "\u001b[1;31m---------------------------------------------------------------------------\u001b[0m",
      "\u001b[1;31mTypeError\u001b[0m                                 Traceback (most recent call last)",
      "\u001b[1;32m<ipython-input-5-a5dc0664a5ac>\u001b[0m in \u001b[0;36m<module>\u001b[1;34m\u001b[0m\n\u001b[1;32m----> 1\u001b[1;33m \u001b[1;32mfor\u001b[0m \u001b[0mi\u001b[0m \u001b[1;32min\u001b[0m \u001b[0mrange\u001b[0m\u001b[1;33m(\u001b[0m\u001b[1;34m''\u001b[0m\u001b[1;33m,\u001b[0m\u001b[1;34m''\u001b[0m\u001b[1;33m,\u001b[0m\u001b[1;34m''\u001b[0m\u001b[1;33m)\u001b[0m\u001b[1;33m:\u001b[0m\u001b[1;33m\u001b[0m\u001b[1;33m\u001b[0m\u001b[0m\n\u001b[0m\u001b[0;32m      2\u001b[0m     \u001b[0mprint\u001b[0m\u001b[1;33m(\u001b[0m\u001b[0mi\u001b[0m\u001b[1;33m)\u001b[0m\u001b[1;33m\u001b[0m\u001b[1;33m\u001b[0m\u001b[0m\n",
      "\u001b[1;31mTypeError\u001b[0m: 'str' object cannot be interpreted as an integer"
     ]
    }
   ],
   "source": [
    "for i in range('','',''):\n",
    "    "
   ]
  }
 ],
 "metadata": {
  "kernelspec": {
   "display_name": "Python 3",
   "language": "python",
   "name": "python3"
  },
  "language_info": {
   "codemirror_mode": {
    "name": "ipython",
    "version": 3
   },
   "file_extension": ".py",
   "mimetype": "text/x-python",
   "name": "python",
   "nbconvert_exporter": "python",
   "pygments_lexer": "ipython3",
   "version": "3.7.3"
  }
 },
 "nbformat": 4,
 "nbformat_minor": 2
}
