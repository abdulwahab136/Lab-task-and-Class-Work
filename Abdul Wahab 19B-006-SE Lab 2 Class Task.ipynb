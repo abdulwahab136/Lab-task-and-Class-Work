{
 "cells": [
  {
   "cell_type": "code",
   "execution_count": 2,
   "metadata": {},
   "outputs": [
    {
     "name": "stdout",
     "output_type": "stream",
     "text": [
      "[10, 22, 44, 23, 4]\n",
      "[10, 22, 44, 23, 4]\n"
     ]
    }
   ],
   "source": [
    "#Objective : Write a program to copy a list\n",
    "original_list1=[10,22,44,23,4]\n",
    "new_list2=list(original_list1)\n",
    "print(original_list1)\n",
    "print(new_list2)"
   ]
  },
  {
   "cell_type": "code",
   "execution_count": 8,
   "metadata": {},
   "outputs": [
    {
     "name": "stdout",
     "output_type": "stream",
     "text": [
      "()\n",
      "()\n"
     ]
    }
   ],
   "source": [
    "#Objective : Write a program to create an empty truple\n",
    "X=()\n",
    "print(X)\n",
    "#create an empty tuple with tuple() function built0in python\n",
    "tuple1 = tuple()\n",
    "print(tuple1)"
   ]
  },
  {
   "cell_type": "code",
   "execution_count": 10,
   "metadata": {},
   "outputs": [
    {
     "name": "stdout",
     "output_type": "stream",
     "text": [
      "('tuple', False, 3.2, 1)\n"
     ]
    }
   ],
   "source": [
    "#create a tuple with different data type\n",
    "tuple2=(\"tuple\",False,3.2,1)\n",
    "print(tuple2)"
   ]
  },
  {
   "cell_type": "code",
   "execution_count": 11,
   "metadata": {},
   "outputs": [
    {
     "name": "stdout",
     "output_type": "stream",
     "text": [
      "2\n",
      "a\n"
     ]
    }
   ],
   "source": [
    "#get an item of the tuple\n",
    "tuplex=(\"U\",\"I\",\"T\",2,0,1,9,\"b\",\"a\",\"c\",\"t\",\"h\")\n",
    "item=tuplex[3]\n",
    "print(item)\n",
    "item1=tuplex[-4]\n",
    "print(item1)"
   ]
  },
  {
   "cell_type": "code",
   "execution_count": 1,
   "metadata": {},
   "outputs": [
    {
     "name": "stdout",
     "output_type": "stream",
     "text": [
      "Extend Command : [2, 3, 4, 5, 6]\n",
      "Entend Command Adds Number in the list\n",
      "copy command : [2, 3, 4, 5, 6]\n",
      "Copy Command Copy list to new list\n",
      "clear command :[]\n",
      "clear command clear the list\n"
     ]
    }
   ],
   "source": [
    "lst=[2,3,4]\n",
    "lst.extend([5,6])\n",
    "print(\"Extend Command : \" +str(lst))\n",
    "print (\"Entend Command Adds Number in the list\")\n",
    "\n",
    "lst2=lst.copy()\n",
    "print(\"copy command : \" +str(lst2))\n",
    "print(\"Copy Command Copy list to new list\")\n",
    "\n",
    "lst.clear()\n",
    "print(\"clear command :\" +str(lst))\n",
    "print(\"clear command clear the list\")\n",
    "\n"
   ]
  }
 ],
 "metadata": {
  "kernelspec": {
   "display_name": "Python 3",
   "language": "python",
   "name": "python3"
  },
  "language_info": {
   "codemirror_mode": {
    "name": "ipython",
    "version": 3
   },
   "file_extension": ".py",
   "mimetype": "text/x-python",
   "name": "python",
   "nbconvert_exporter": "python",
   "pygments_lexer": "ipython3",
   "version": "3.7.3"
  }
 },
 "nbformat": 4,
 "nbformat_minor": 2
}
