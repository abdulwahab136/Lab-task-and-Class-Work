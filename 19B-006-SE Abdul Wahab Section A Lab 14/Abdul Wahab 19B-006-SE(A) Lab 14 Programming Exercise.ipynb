{
 "cells": [
  {
   "cell_type": "code",
   "execution_count": null,
   "metadata": {},
   "outputs": [],
   "source": [
    "#Question 1\n",
    "import sqlite3\n",
    "con = sqlite3.connect('AbdulWahab.db')\n",
    "cursorObj = con.cursor()\n",
    "cursorObj.execute(\"CREATE TABLE classmate(StudentID integer PRIMARY KEY,Name text ,University text,Cell text,Distance integer,age integer,Hobbies text,Birthday text)\")\n",
    "\n",
    "cursorObj.execute(\"INSERT INTO classmate VALUES(1,'Danish','LEFT','090078601',1,21,'movies','Jan-20-1998')\")\n",
    "cursorObj.execute(\"INSERT INTO classmate VALUES(2,'Ismail','UIT','090073601',2,20,'football','Feb-21-1999')\")\n",
    "cursorObj.execute(\"INSERT INTO classmate VALUES(3,'Usman','LEFT','090076601',5,20,'cricket','Jan-1-1998')\")\n",
    "cursorObj.execute(\"INSERT INTO classmate VALUES(4,'Ahmed','UIT','090078101',21,19,'movies','Mar-20-1998')\")\n",
    "cursorObj.execute(\"INSERT INTO classmate VALUES(5,'Mustafa','UIT','090178601',25,19,'football','Jan-4-2000')\")\n",
    "cursorObj.execute(\"INSERT INTO classmate VALUES(6,'Mujtaba','UIT','0900878601',20,19,'movies','July-21-1990')\")\n",
    "cursorObj.execute(\"INSERT INTO classmate VALUES(7,'Omer','UIT','090078101',3,20,'books','June-4-1998')\")\n",
    "cursorObj.execute(\"INSERT INTO classmate VALUES(8,'Adnan','UIT','092378601',6,21,'movies','August-21-1998')\")\n",
    "cursorObj.execute(\"INSERT INTO classmate VALUES(9,'Samad','UIT','091578661',8,21,'books','Jan-10-1998')\")\n",
    "cursorObj.execute(\"INSERT INTO classmate VALUES(10,'Mohsin','UIT','090078607',12,21,'movies','Nov-20-1998')\")\n",
    "con.commit()\n",
    "con.close()\n"
   ]
  },
  {
   "cell_type": "code",
   "execution_count": 8,
   "metadata": {},
   "outputs": [],
   "source": [
    "import sqlite3\n",
    "con = sqlite3.connect('AbdulWahab.db')\n",
    "cursorObj = con.cursor()\n",
    "cursorObj.execute(\"UPDATE classmate SET Cell = '03232104458' WHERE StudentID = 5\")\n",
    "cursorObj.execute(\"DELETE FROM classmate WHERE University = 'LEFT'\")\n",
    "con.commit()\n",
    "\n",
    "\n"
   ]
  },
  {
   "cell_type": "code",
   "execution_count": 10,
   "metadata": {},
   "outputs": [
    {
     "name": "stdout",
     "output_type": "stream",
     "text": [
      "(2, 'Ismail', 'UIT', '090073601', 2, 20, 'football', 'Feb-21-1999')\n",
      "(4, 'Ahmed', 'UIT', '090078101', 21, 19, 'movies', 'Mar-20-1998')\n",
      "(5, 'Mustafa', 'UIT', '03232104458', 25, 19, 'football', 'Jan-4-2000')\n",
      "(6, 'Mujtaba', 'UIT', '0900878601', 20, 19, 'movies', 'July-21-1990')\n",
      "(7, 'Omer', 'UIT', '090078101', 3, 20, 'books', 'June-4-1998')\n",
      "(8, 'Adnan', 'UIT', '092378601', 6, 21, 'movies', 'August-21-1998')\n",
      "(9, 'Samad', 'UIT', '091578661', 8, 21, 'books', 'Jan-10-1998')\n",
      "(10, 'Mohsin', 'UIT', '090078607', 12, 21, 'movies', 'Nov-20-1998')\n"
     ]
    }
   ],
   "source": [
    "import sqlite3\n",
    "con = sqlite3.connect('AbdulWahab.db')\n",
    "def sql_fetch(con):\n",
    "    cursorObj = con.cursor()\n",
    "    cursorObj.execute(\"SELECT * FROM classmate\")\n",
    "    rows = cursorObj.fetchall()\n",
    "    for row in rows:\n",
    "        print(row)\n",
    "sql_fetch(con)"
   ]
  },
  {
   "cell_type": "code",
   "execution_count": 11,
   "metadata": {},
   "outputs": [
    {
     "name": "stdout",
     "output_type": "stream",
     "text": [
      "(2, 'Ismail', 'UIT', '090073601', 2, 20, 'football', 'Feb-21-1999')\n",
      "(7, 'Omer', 'UIT', '090078101', 3, 20, 'books', 'June-4-1998')\n",
      "(8, 'Adnan', 'UIT', '092378601', 6, 21, 'movies', 'August-21-1998')\n",
      "(9, 'Samad', 'UIT', '091578661', 8, 21, 'books', 'Jan-10-1998')\n"
     ]
    }
   ],
   "source": [
    "import sqlite3\n",
    "con = sqlite3.connect('AbdulWahab.db')\n",
    "def sql_fetch(con):\n",
    "    cursorObj = con.cursor()\n",
    "    cursorObj.execute(\"SELECT * FROM classmate WHERE Distance < 10\")\n",
    "    rows = cursorObj.fetchall()\n",
    "    for row in rows:\n",
    "        print(row)\n",
    "sql_fetch(con)"
   ]
  },
  {
   "cell_type": "code",
   "execution_count": 12,
   "metadata": {},
   "outputs": [
    {
     "name": "stdout",
     "output_type": "stream",
     "text": [
      "(8, 'Adnan', 'UIT', '092378601', 6, 21, 'movies', 'August-21-1998')\n",
      "(9, 'Samad', 'UIT', '091578661', 8, 21, 'books', 'Jan-10-1998')\n",
      "(10, 'Mohsin', 'UIT', '090078607', 12, 21, 'movies', 'Nov-20-1998')\n"
     ]
    }
   ],
   "source": [
    "import sqlite3\n",
    "con = sqlite3.connect('AbdulWahab.db')\n",
    "def sql_fetch(con):\n",
    "    cursorObj = con.cursor()\n",
    "    cursorObj.execute(\"SELECT * FROM classmate WHERE age = 21\")\n",
    "    rows = cursorObj.fetchall()\n",
    "    for row in rows:\n",
    "        print(row)\n",
    "sql_fetch(con)"
   ]
  },
  {
   "cell_type": "code",
   "execution_count": 13,
   "metadata": {},
   "outputs": [
    {
     "name": "stdout",
     "output_type": "stream",
     "text": [
      "(4, 'Ahmed', 'UIT', '090078101', 21, 19, 'movies', 'Mar-20-1998')\n",
      "(6, 'Mujtaba', 'UIT', '0900878601', 20, 19, 'movies', 'July-21-1990')\n",
      "(8, 'Adnan', 'UIT', '092378601', 6, 21, 'movies', 'August-21-1998')\n",
      "(10, 'Mohsin', 'UIT', '090078607', 12, 21, 'movies', 'Nov-20-1998')\n"
     ]
    }
   ],
   "source": [
    "import sqlite3\n",
    "con = sqlite3.connect('AbdulWahab.db')\n",
    "def sql_fetch(con):\n",
    "    cursorObj = con.cursor()\n",
    "    cursorObj.execute(\"SELECT * FROM classmate WHERE hobbies = 'movies'\")\n",
    "    rows = cursorObj.fetchall()\n",
    "    for row in rows:\n",
    "        print(row)\n",
    "sql_fetch(con)"
   ]
  },
  {
   "cell_type": "code",
   "execution_count": 15,
   "metadata": {},
   "outputs": [
    {
     "name": "stdout",
     "output_type": "stream",
     "text": [
      "(5, 'Mustafa', 'UIT', '03232104458', 25, 19, 'football', 'Jan-4-2000')\n",
      "(9, 'Samad', 'UIT', '091578661', 8, 21, 'books', 'Jan-10-1998')\n"
     ]
    }
   ],
   "source": [
    "import sqlite3\n",
    "con = sqlite3.connect('AbdulWahab.db')\n",
    "def sql_fetch(con):\n",
    "    cursorObj = con.cursor()\n",
    "    cursorObj.execute(\"SELECT * FROM classmate WHERE Birthday Like 'Jan%'\")\n",
    "    rows = cursorObj.fetchall()\n",
    "    for row in rows:\n",
    "        print(row)\n",
    "sql_fetch(con)"
   ]
  }
 ],
 "metadata": {
  "kernelspec": {
   "display_name": "Python 3",
   "language": "python",
   "name": "python3"
  },
  "language_info": {
   "codemirror_mode": {
    "name": "ipython",
    "version": 3
   },
   "file_extension": ".py",
   "mimetype": "text/x-python",
   "name": "python",
   "nbconvert_exporter": "python",
   "pygments_lexer": "ipython3",
   "version": "3.6.5"
  }
 },
 "nbformat": 4,
 "nbformat_minor": 2
}
