{
 "cells": [
  {
   "cell_type": "code",
   "execution_count": 9,
   "metadata": {},
   "outputs": [
    {
     "name": "stdout",
     "output_type": "stream",
     "text": [
      "Input the radius of  cylinder: 5\n",
      "Input the height of cylinder: 6\n",
      "Area of cylinder is : 345.58cm²\n",
      "Input the radius of cylinder: 7\n",
      "Input the height of cylinder: 8\n",
      "Volume of cylinder is : 205.25cm³\n"
     ]
    }
   ],
   "source": [
    "#Question # 1\n",
    "from math import pi\n",
    "def area():\n",
    "    r=int(input(\"Input the radius of  cylinder: \"))\n",
    "    h=int(input(\"Input the height of cylinder: \"))\n",
    "    Area=(2*pi*r*h)+(2*pi*r**2)\n",
    "    print(\"Area of cylinder is : {0:.{1}f}cm\\u00b2\".format(Area,2))\n",
    "area()\n",
    "    \n",
    "def volume():\n",
    "    r=int(input(\"Input the radius of cylinder: \"))\n",
    "    h=int(input(\"Input the height of cylinder: \"))\n",
    "    Volume=(4/3)*pi*r**2\n",
    "    print(\"Volume of cylinder is : {0:.{1}f}cm\\u00b3\".format(Volume,2))\n",
    "volume()    \n"
   ]
  },
  {
   "cell_type": "code",
   "execution_count": 3,
   "metadata": {},
   "outputs": [
    {
     "name": "stdout",
     "output_type": "stream",
     "text": [
      "Input the length of rectangle: 5.3\n",
      "Input the Bredth of rectangle: 6.3\n",
      "Area of Rectangle is 33.39cm²\n",
      "Input the length of rectangle: 7.3\n",
      "Input the Bredth of rectangle: 8.7\n",
      "Perimeter of Rectangle is 32.00cm\n"
     ]
    }
   ],
   "source": [
    "#Question # 2\n",
    "\n",
    "def area():\n",
    "    L=eval(input(\"Input the length of rectangle: \"))\n",
    "    B=eval(input(\"Input the Bredth of rectangle: \"))\n",
    "    Area=L*B\n",
    "    print(\"Area of Rectangle is {0:.{1}f}cm\\u00b2\".format(Area,2))\n",
    "area()\n",
    "\n",
    "def Perimeter():\n",
    "    \n",
    "    L=eval(input(\"Input the length of rectangle: \"))\n",
    "    B=eval(input(\"Input the Bredth of rectangle: \"))\n",
    "    Perimeter=2*L+2*B\n",
    "    print(\"Perimeter of Rectangle is {0:.{1}f}cm\".format(Perimeter,2))\n",
    "Perimeter()"
   ]
  },
  {
   "cell_type": "code",
   "execution_count": 3,
   "metadata": {},
   "outputs": [
    {
     "name": "stdout",
     "output_type": "stream",
     "text": [
      "Enter the first term of the sequance :7\n",
      "Enter the common difference of the sequance :5\n",
      "Enter nth term you want to know :65\n",
      "327\n",
      "Enter yes if you want to find anotheryes\n",
      "\n",
      "\n",
      "Enter nth term you want to know : 98\n",
      "492\n",
      "Enter yes if you want to find another : yes\n",
      "\n",
      "\n",
      "Enter nth term you want to know : 78\n",
      "392\n",
      "Enter yes if you want to find another : no\n",
      "Completed\n"
     ]
    }
   ],
   "source": [
    "# Question 3\n",
    "def arthseq():\n",
    "    first = eval(input(\"Enter the first term of the sequance :\"))\n",
    "    diff = eval(input(\"Enter the common difference of the sequance :\"))\n",
    "    n = eval(input(\"Enter nth term you want to know :\"))\n",
    "\n",
    "\n",
    "    nterm = (first + (n-1)*diff)\n",
    "         \n",
    "    print(nterm)\n",
    "\n",
    "    a = input(\"Enter yes if you want to find another\")\n",
    "    \n",
    "    while a == ('yes' or 'YES' or 'Yes'):\n",
    "        print('\\n')\n",
    "        n = eval(input(\"Enter nth term you want to know : \"))\n",
    "        nterm = (first + (n-1)*diff)\n",
    "        print(nterm)\n",
    "        a = input(\"Enter yes if you want to find another : \")\n",
    "    else:\n",
    "        print(\"Completed\")\n",
    "arthseq()"
   ]
  },
  {
   "cell_type": "code",
   "execution_count": 11,
   "metadata": {},
   "outputs": [
    {
     "name": "stdout",
     "output_type": "stream",
     "text": [
      "Enter String you want to know if it's palindrome :Civic\n",
      "The word  Civic  is palindrome\n"
     ]
    }
   ],
   "source": [
    "#Question 4 \n",
    "def palindrome():\n",
    "    word = str(input(\"Enter String you want to know if it's palindrome :\"))\n",
    "    rword= ''.join(reversed(word))\n",
    "\n",
    "    word.casefold()\n",
    "    if word.casefold() == rword.casefold():\n",
    "        print(\"The word \",word,\" is palindrome\")\n",
    "    else:\n",
    "        print(\"Sorry \",word,\" is not palindrome\")\n",
    "palindrome()"
   ]
  },
  {
   "cell_type": "code",
   "execution_count": 1,
   "metadata": {},
   "outputs": [
    {
     "name": "stdout",
     "output_type": "stream",
     "text": [
      "Enter your name : Abdul Wahab\n",
      "Enter your father name : Tanveer\n",
      "Enter your roll number : 78485\n",
      "Enter the year you did your Intermediate :2018\n",
      "Enter Subject : Math\n",
      "Enter Marks Obtained : 87\n",
      "Enter Subject : Phy\n",
      "Enter Marks Obtained : 65\n",
      "Enter Subject : Chem\n",
      "Enter Marks Obtained : 89\n",
      "Enter Subject : PF\n",
      "Enter Marks Obtained : 99\n",
      "Enter Subject : Urdu\n",
      "Enter Marks Obtained : 69\n",
      "\t\t\t\tIntermidiate Examination Marksheet  2018\n",
      "Name :  Abdul Wahab\n",
      "Father Name :  Tanveer\n",
      "Roll Number :  78485\n",
      "Subject \t\t Total Marks \t\t Marks Obtained \n",
      "Math \t\t\t 100 \t\t\t 87\n",
      "Phy \t\t\t 100 \t\t\t 65\n",
      "Chem \t\t\t 100 \t\t\t 89\n",
      "PF \t\t\t 100 \t\t\t 99\n",
      "Urdu \t\t\t 100 \t\t\t 69\n",
      "Total Marks : 500\n",
      "Marks Obtained : 409\n",
      "Percentage : 81.80%\n",
      "Grade A+\n"
     ]
    }
   ],
   "source": [
    "#Question 5\n",
    "def Marksheet():    \n",
    "    name = input(\"Enter your name : \")\n",
    "    fname = input(\"Enter your father name : \")\n",
    "    rno = input(\"Enter your roll number : \")\n",
    "    year = input(\"Enter the year you did your Intermediate :\")\n",
    "    total = 0\n",
    "\n",
    "    slist = ['','','','','']\n",
    "    mlist = [0,0,0,0,0]\n",
    "\n",
    "    for i in range(0,5):\n",
    "        slist[i] = input(\"Enter Subject : \")\n",
    "        mlist[i] = int(input(\"Enter Marks Obtained : \"))\n",
    "        total = total + mlist[i]\n",
    "        \n",
    "        \n",
    "\n",
    "\n",
    "    print(\"\\t\\t\\t\\tIntermidiate Examination Marksheet \",year)\n",
    "    print(\"Name : \",name)\n",
    "    print(\"Father Name : \",fname)\n",
    "    print(\"Roll Number : \",rno)\n",
    "    print(\"Subject \\t\\t Total Marks \\t\\t Marks Obtained \")\n",
    "\n",
    "    for i in range(0,5):\n",
    "        print(slist[i] ,\"\\t\\t\\t\", \"100\" , \"\\t\\t\\t\",mlist[i])\n",
    "    \n",
    "    print(\"Total Marks : 500\")\n",
    "    print(\"Marks Obtained :\",total)\n",
    "    percentage = float((total/500)*100) \n",
    "    print(\"Percentage : {0:.{1}f}%\".format(percentage,2))\n",
    "    if percentage > 80:\n",
    "        print(\"Grade A+\")\n",
    "    else:\n",
    "        if percentage > 70:\n",
    "            print(\"Grade A\")\n",
    "        else:\n",
    "            if percentage > 60:\n",
    "                print(\"Grade B\")\n",
    "            else:\n",
    "                if percentage > 50:\n",
    "                    print(\"Grade C\")\n",
    "                else:\n",
    "                    if percentage > 33:\n",
    "                        print(\"Grade D\")\n",
    "                    else:\n",
    "                        print(\"Grade F\")\n",
    "\n",
    "Marksheet()"
   ]
  },
  {
   "cell_type": "code",
   "execution_count": 7,
   "metadata": {},
   "outputs": [
    {
     "name": "stdout",
     "output_type": "stream",
     "text": [
      "enter the value of initial velocity: 6\n",
      "enter the value of acceleration: 5\n",
      "enter the value of time: 4\n",
      "Final Velocity According to first Equation of motion : 26 m/s\n",
      "enter the value of initial velocity: 7\n",
      "enter the value of time: 4\n",
      "enter the value of acceleration: 5\n",
      "Displacement According to second Equation of motion : 68.0 Meter\n",
      "enter the value of Displacement: 8\n",
      "enter the value of initial velocity: 5\n",
      "enter the value of acceleration: 4\n",
      "Final Velocity According to Third Equation of motion : 9.43m/s\n"
     ]
    }
   ],
   "source": [
    "#Question 6\n",
    "from math import sqrt\n",
    "def law1():\n",
    "    U=eval(input(\"enter the value of initial velocity: \"))\n",
    "    A=eval(input(\"enter the value of acceleration: \"))\n",
    "    T=eval(input(\"enter the value of time: \"))\n",
    "    Fvelocity=U+A*T\n",
    "    print(\"Final Velocity According to first Equation of motion :\",Fvelocity,\"m/s\")\n",
    "law1()\n",
    "\n",
    "def law2():\n",
    "    U=eval(input(\"enter the value of initial velocity: \"))\n",
    "    T=eval(input(\"enter the value of time: \"))\n",
    "    A=eval(input(\"enter the value of acceleration: \"))\n",
    "    Displacement=U*T+1/2*A*T**2\n",
    "    print(\"Displacement According to second Equation of motion :\",Displacement,\"Meter\")\n",
    "law2()\n",
    "\n",
    "def law3():\n",
    "    S=eval(input(\"enter the value of Displacement: \"))\n",
    "    U=eval(input(\"enter the value of initial velocity: \"))\n",
    "    A=eval(input(\"enter the value of acceleration: \"))\n",
    "    \n",
    "    Fvelocity=sqrt(U**2+2*A*S)\n",
    "    print(\"Final Velocity According to Third Equation of motion : {0:.{1}f}m/s\".format(Fvelocity,2))\n",
    "law3()"
   ]
  },
  {
   "cell_type": "code",
   "execution_count": 42,
   "metadata": {},
   "outputs": [
    {
     "name": "stdout",
     "output_type": "stream",
     "text": [
      "enter the value of initial Velocity: 10\n",
      "enter the value of angle: 45\n",
      "range of projectile motion is 10.20m\n",
      "Time taken by projectile motion is 1.44s\n",
      "Max height attained by projectile motion is  245.00m\n"
     ]
    }
   ],
   "source": [
    "#Question 7\n",
    "from math import sin,radians\n",
    "\n",
    "\n",
    "def Projectile():\n",
    "    g = 9.8\n",
    "    Vo=eval(input(\"enter the value of initial Velocity: \"))\n",
    "    Angle1=eval(input(\"enter the value of angle: \"))\n",
    "    Angle=radians(Angle1)\n",
    "    Range=(Vo**2*sin(2*Angle))/g\n",
    "    print(\"range of projectile motion is {0:.{1}f}m\".format(Range,2))\n",
    "    time=(2*Vo*sin(Angle))/g\n",
    "    print(\"Time taken by projectile motion is {0:.{1}f}s\".format(time,2))\n",
    "    Height=(Vo**2*sin(Angle)**2)/2*g\n",
    "    print(\"Max height attained by projectile motion is  {0:.{1}f}m\".format(Height,2))\n",
    "    \n",
    "Projectile()    "
   ]
  },
  {
   "cell_type": "code",
   "execution_count": 5,
   "metadata": {},
   "outputs": [
    {
     "name": "stdout",
     "output_type": "stream",
     "text": [
      "enter your name: Abdul Wahab\n",
      "Name  Abdul Wahab in Reverse is  bahaW ludbA\n"
     ]
    }
   ],
   "source": [
    "# Question 8\n",
    "def reversename():\n",
    "    name =str(input(\"enter your name: \"))\n",
    "    rname =''.join(reversed(name))\n",
    "    print(\"Name \", name ,\"in Reverse is \", rname )\n",
    "reversename()"
   ]
  },
  {
   "cell_type": "code",
   "execution_count": 17,
   "metadata": {},
   "outputs": [
    {
     "data": {
      "text/plain": [
       "['Q', 'i', 'u', 'n', 'q', 'v', 'm']"
      ]
     },
     "execution_count": 17,
     "metadata": {},
     "output_type": "execute_result"
    }
   ],
   "source": [
    "#Question 9\n",
    "\n",
    "def Encryption(Original, step):\n",
    "    Encrypted=[]\n",
    "    cryptText=[]\n",
    "    \n",
    "    uppercase=['A','B','C','D','E','F','G','H','I','J','K','L','M','N','O','P','Q','R','S','T','U','V','W','X','Y','Z']\n",
    "    lowercase=['a','b','c','d','e','f','g','h','i','j','k','l','m','n','o','p','q','r','s','t','u','v','w','x','y','z']\n",
    "    \n",
    "    for Letter in Original:\n",
    "        if Letter in uppercase:\n",
    "            index = uppercase.index(Letter)\n",
    "            encrypting = (index+step)%26\n",
    "            cryptText.append(encrypting)\n",
    "            Encryption = uppercase[encrypting]\n",
    "            Encrypted.append(Encryption)\n",
    "        elif Letter in lowercase:\n",
    "            index = lowercase.index(Letter)\n",
    "            crypting = (index+step)%26\n",
    "            cryptText.append(crypting)\n",
    "            Encryption = lowercase[crypting]\n",
    "            Encrypted.append(Encryption)\n",
    "            \n",
    "    return Encrypted\n",
    "Encryption('I am fine',8)"
   ]
  },
  {
   "cell_type": "code",
   "execution_count": null,
   "metadata": {},
   "outputs": [],
   "source": []
  },
  {
   "cell_type": "code",
   "execution_count": 2,
   "metadata": {},
   "outputs": [
    {
     "name": "stdout",
     "output_type": "stream",
     "text": [
      "enter the initial value: 30\n",
      "enter the final valuue: 180\n",
      "sin on 30 : -0.99\n",
      "cos on 30 : 0.15\n",
      "tan on 30 : -6.41\n",
      "sin on 60 : -0.30\n",
      "cos on 60 : -0.95\n",
      "tan on 60 : 0.32\n",
      "sin on 90 : 0.89\n",
      "cos on 90 : -0.45\n",
      "tan on 90 : -2.00\n",
      "sin on 120 : 0.58\n",
      "cos on 120 : 0.81\n",
      "tan on 120 : 0.71\n",
      "sin on 150 : -0.71\n",
      "cos on 150 : 0.70\n",
      "tan on 150 : -1.02\n",
      "sin on 180 : -0.80\n",
      "cos on 180 : -0.60\n",
      "tan on 180 : 1.34\n"
     ]
    }
   ],
   "source": [
    "#Question 10\n",
    "from math import sin,cos,tan\n",
    "def table():\n",
    "    x=int(input(\"enter the initial value: \"))\n",
    "    y=int(input(\"enter the final valuue: \"))\n",
    "    for i in range(x,y+30,30):\n",
    "       \n",
    "        \n",
    "        print(\"sin on {0} : {1:.{2}f}\".format(i,sin(i),2))\n",
    "        print(\"cos on {0} : {1:.{2}f}\".format(i,cos(i),2))\n",
    "        print(\"tan on {0} : {1:.{2}f}\".format(i,tan(i),2))\n",
    "table()    \n",
    "    "
   ]
  },
  {
   "cell_type": "code",
   "execution_count": 7,
   "metadata": {},
   "outputs": [
    {
     "name": "stdout",
     "output_type": "stream",
     "text": [
      "Area of Bigger Circle = 307.88cm²\n",
      "Area without semi circles = 125.66cm²\n",
      "\n",
      "\n",
      "Perimeter of Bigger Circle = 71.98cm\n",
      "Perimeter with two smaller Circle = 115.96cm\n"
     ]
    }
   ],
   "source": [
    "#Question 11\n",
    "from math import pi\n",
    "def Area():\n",
    "    Radius = 14\n",
    "    R2=4\n",
    "    R3=10\n",
    "    Area=(pi*Radius**2)/2\n",
    "    print(\"Area of Bigger Circle = {0:.{1}f}cm\\u00b2\".format(Area,2))\n",
    "    Area2=(pi*R2**2)/2\n",
    "    Area3=(pi*R3**2)/2\n",
    "    Area4=Area-(Area2+Area3)\n",
    "    print(\"Area without semi circles = {0:.{1}f}cm\\u00b2\".format(Area4,2))\n",
    "Area()\n",
    "\n",
    "def perimeter():\n",
    "    print('\\n')\n",
    "    Radius = 14\n",
    "    R2=8\n",
    "    R3=6\n",
    "    Perimeter=(2*pi*Radius)/2 + 2*Radius\n",
    "    print(\"Perimeter of Bigger Circle = {0:.{1}f}cm\".format(Perimeter,2))\n",
    "    Perimeter2=(2*pi*R2)/2\n",
    "    Perimeter3=(2*pi*R3)/2\n",
    "    Perimeter4=Perimeter+Perimeter2+Perimeter3\n",
    "    print(\"Perimeter with two smaller Circle = {0:.{1}f}cm\".format(Perimeter4,2))\n",
    "perimeter()"
   ]
  },
  {
   "cell_type": "code",
   "execution_count": null,
   "metadata": {},
   "outputs": [],
   "source": []
  }
 ],
 "metadata": {
  "kernelspec": {
   "display_name": "Python 3",
   "language": "python",
   "name": "python3"
  },
  "language_info": {
   "codemirror_mode": {
    "name": "ipython",
    "version": 3
   },
   "file_extension": ".py",
   "mimetype": "text/x-python",
   "name": "python",
   "nbconvert_exporter": "python",
   "pygments_lexer": "ipython3",
   "version": "3.7.3"
  }
 },
 "nbformat": 4,
 "nbformat_minor": 2
}
