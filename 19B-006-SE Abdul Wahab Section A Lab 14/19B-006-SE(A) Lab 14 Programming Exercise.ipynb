{
 "cells": [
  {
   "cell_type": "code",
   "execution_count": 3,
   "metadata": {},
   "outputs": [],
   "source": [
    "import sqlite3\n",
    "con = sqlite3.connect('test_database.db')\n",
    "cursorObj = con.cursor()\n",
    "cursorObj.execute(\"CREATE TABLE Books(BookID integer PRIMARY KEY,title text,author text,publisher text , publishedin text , price integer,pages integer)\")\n",
    "con.commit()\n",
    "con.close()"
   ]
  },
  {
   "cell_type": "code",
   "execution_count": null,
   "metadata": {},
   "outputs": [],
   "source": [
    "import sqlite3\n",
    "con = sqlite3.connect('test_database.db')\n",
    "cursorObj = con.cursor()\n",
    "cursorObj.execute(\"INSERT INTO Books VALUES(2,'The Kite Runner','Khalid Houseni','RiverHead Publishers','2003',500,372)\")\n",
    "cursorObj.execute(\"INSERT INTO Books VALUES(3,'Thousand Splended Sun','Khalid Houseni','RiverHead Publishers',2007,800,420)\")\n",
    "cursorObj.execute(\"INSERT INTO Books VALUES(4,'Alchemist','Paulo Coehlo','Oxford Publishers','1993',400,312)\")\n",
    "cursorObj.execute(\"INSERT INTO Books VALUES(5,'Eleven Minutes','Paulo Coehlo','Oxford Publishers','2003',490,210)\")\n",
    "cursorObj.execute(\"INSERT INTO Books VALUES(6,'The Dead Zone','Stephen King','Picasso Publishers','1979',800,428)\")\n",
    "cursorObj.execute(\"INSERT INTO Books VALUES(7,'In the tall grass','Stephen King','Picasso Publishers','2012',450,440)\")\n",
    "cursorObj.execute(\"INSERT INTO Books VALUES(8,'IT','Stephen King','Picasso Publishers','1986',1200,1138)\")\n",
    "con.commit()\n",
    "con.close()"
   ]
  },
  {
   "cell_type": "code",
   "execution_count": 1,
   "metadata": {},
   "outputs": [],
   "source": [
    "import sqlite3\n",
    "from tkinter import *\n",
    "import tkinter as tk\n",
    "def main():\n",
    "    global Queries,textarea\n",
    "    top = tk.Tk()\n",
    "    top.geometry(\"1192x750\")\n",
    "    top.minsize(176, 1)\n",
    "    top.maxsize(1924, 1050)\n",
    "    top.resizable(0, 0)\n",
    "    top.title(\"Queries\")\n",
    "    \n",
    "    Execute = Button(top,text = 'EXECUTE',font = 9,command = queryrun)\n",
    "    Execute.place(relx=0.4, rely=0.22, height=42, width=158)\n",
    "    \n",
    "    Label1 = tk.Label(top)\n",
    "    Label1.place(relx=0.05, rely=0.14, height=51, width=137)\n",
    "    Label1.configure(background=\"#d9d9d9\")\n",
    "    Label1.configure(font=9)\n",
    "    Label1.configure(text='''Query''')\n",
    "\n",
    "    Queries = tk.Entry(top)\n",
    "    Queries.place(relx=0.193, rely=0.14,height=46, relwidth=0.742)\n",
    "    Queries.configure(background=\"white\")\n",
    "    Queries.configure(font=10)\n",
    "    Queries.configure(insertbackground=\"black\")\n",
    "\n",
    "    Frame1 = tk.Frame(top)\n",
    "    Frame1.place(relx=0.05, rely=0.307, relheight=0.647, relwidth=0.885)\n",
    "    Frame1.configure(relief='groove')\n",
    "    Frame1.configure(borderwidth=\"2\")\n",
    "    Frame1.configure(relief=\"groove\")\n",
    "    Frame1.configure(background=\"#d9d9d9\")\n",
    "    \n",
    "    textarea = Text(Frame1)\n",
    "    textarea.place(relx=0, rely=0, relheight=1, relwidth=1)\n",
    "    top.mainloop()\n",
    "    \n",
    "def queryrun():\n",
    "    textarea.delete('1.0',END)\n",
    "    query = Queries.get()\n",
    "    con = sqlite3.connect('test_database.db')\n",
    "    cursorObj = con.cursor()\n",
    "    cursorObj.execute(query)\n",
    "    con.commit()\n",
    "    rows = cursorObj.fetchall()\n",
    "    for row in rows:\n",
    "        textarea.insert(END,\"{0}\\n\".format(row))\n",
    " \n",
    "main()"
   ]
  }
 ],
 "metadata": {
  "kernelspec": {
   "display_name": "Python 3",
   "language": "python",
   "name": "python3"
  },
  "language_info": {
   "codemirror_mode": {
    "name": "ipython",
    "version": 3
   },
   "file_extension": ".py",
   "mimetype": "text/x-python",
   "name": "python",
   "nbconvert_exporter": "python",
   "pygments_lexer": "ipython3",
   "version": "3.7.3"
  }
 },
 "nbformat": 4,
 "nbformat_minor": 2
}
