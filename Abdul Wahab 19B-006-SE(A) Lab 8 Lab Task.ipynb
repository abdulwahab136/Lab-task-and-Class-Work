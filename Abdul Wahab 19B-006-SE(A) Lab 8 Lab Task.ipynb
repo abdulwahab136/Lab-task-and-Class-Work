{
 "cells": [
  {
   "cell_type": "code",
   "execution_count": 10,
   "metadata": {},
   "outputs": [
    {
     "name": "stdout",
     "output_type": "stream",
     "text": [
      "dictionary['Name'] :  Jibran\n",
      "dictionary['Age']  :  13\n",
      "dictionary['DOB']  :  16 April 2006\n",
      "dictionary['Class']:  Seventh\n"
     ]
    }
   ],
   "source": [
    "#Program 1\n",
    "dictionary = {'Name' : 'Jibran', 'Age' : 13, 'Class' : 'Seventh', 'DOB' : '16 April 2006'}\n",
    "print(\"dictionary['Name'] : \", dictionary['Name'])\n",
    "print(\"dictionary['Age']  : \",dictionary['Age'])\n",
    "print(\"dictionary['DOB']  : \",dictionary['DOB'])\n",
    "print(\"dictionary['Class']: \",dictionary['Class'])"
   ]
  },
  {
   "cell_type": "code",
   "execution_count": 11,
   "metadata": {},
   "outputs": [
    {
     "name": "stdout",
     "output_type": "stream",
     "text": [
      "Jibran\n",
      "13\n",
      "Seventh\n",
      "16 April 2006\n"
     ]
    }
   ],
   "source": [
    "#program 2\n",
    "dictionary = {'Name' : 'Jibran', 'Age' : 13, 'Class' : 'Seventh', 'DOB' : '16 April 2006'}\n",
    "for x in dictionary :\n",
    "    print(dictionary[x])"
   ]
  },
  {
   "cell_type": "code",
   "execution_count": 12,
   "metadata": {},
   "outputs": [
    {
     "name": "stdout",
     "output_type": "stream",
     "text": [
      "Jibran\n",
      "13\n",
      "Seventh\n",
      "16 April 2006\n"
     ]
    }
   ],
   "source": [
    "#program 3\n",
    "dictionary = {'Name' : 'Jibran', 'Age' : 13, 'Class' : 'Seventh', 'DOB' : '16 April 2006'}\n",
    "for x in dictionary.values():\n",
    "    print(x)"
   ]
  },
  {
   "cell_type": "code",
   "execution_count": 13,
   "metadata": {},
   "outputs": [
    {
     "name": "stdout",
     "output_type": "stream",
     "text": [
      "Name Jibran\n",
      "Age 13\n",
      "Class Seventh\n",
      "DOB 16 April 2006\n"
     ]
    }
   ],
   "source": [
    "#program 4\n",
    "dictionary = {'Name' : 'Jibran', 'Age' : 13, 'Class' : 'Seventh', 'DOB' : '16 April 2006'}\n",
    "for x,y in dictionary.items():\n",
    "    print(x,y)"
   ]
  },
  {
   "cell_type": "code",
   "execution_count": 14,
   "metadata": {},
   "outputs": [
    {
     "name": "stdout",
     "output_type": "stream",
     "text": [
      "Yes!, 'DOB' is one of the keys in dictionary dictionary\n"
     ]
    }
   ],
   "source": [
    "#program 5\n",
    "dictionary = {'Name' : 'Jibran', 'Age' : 13, 'Class' : 'Seventh', 'DOB' : '16 April 2006'}\n",
    "\n",
    "if \"DOB\" in dictionary:\n",
    "    print(\"Yes!, 'DOB' is one of the keys in dictionary dictionary\")"
   ]
  },
  {
   "cell_type": "code",
   "execution_count": 18,
   "metadata": {},
   "outputs": [
    {
     "name": "stdout",
     "output_type": "stream",
     "text": [
      "dictionary['Age']    :  12.5\n",
      "dictionary['School'] :  The Seeds School\n",
      "dictionary['Friend1'] :  Mohib\n",
      "dictionary['Friend2'] :  Akber\n",
      "dictionary['Friend3'] :  Jazil\n"
     ]
    }
   ],
   "source": [
    "#program 6\n",
    "dictionary = {'Name' : 'Jibran', 'Age' : 13, 'Class' : 'Seventh', 'DOB' : '16 April 2006'}\n",
    "dictionary['Age'] = 12.5\n",
    "dictionary['School'] = 'The Seeds School'\n",
    "\n",
    "print(\"dictionary['Age']    : \",dictionary['Age'])\n",
    "print(\"dictionary['School'] : \",dictionary['School'])\n",
    "\n",
    "dictionary['Friend1'] = 'Mohib'\n",
    "dictionary['Friend2'] = 'Akber'\n",
    "dictionary['Friend3'] = 'Jazil'\n",
    "\n",
    "print(\"dictionary['Friend1'] : \",dictionary['Friend1'])\n",
    "print(\"dictionary['Friend2'] : \",dictionary['Friend2'])\n",
    "print(\"dictionary['Friend3'] : \",dictionary['Friend3'])"
   ]
  },
  {
   "cell_type": "code",
   "execution_count": 19,
   "metadata": {},
   "outputs": [
    {
     "name": "stdout",
     "output_type": "stream",
     "text": [
      "Name Jibran\n",
      "Age 12.5\n",
      "Class Seventh\n",
      "DOB 16 April 2006\n",
      "School The Seeds School\n",
      "Friend1 Mohib\n",
      "Friend2 Akber\n",
      "Friend3 Jazil\n",
      "{'Name': 'Jibran', 'Age': 12.5, 'Class': 'Seventh', 'DOB': '16 April 2006', 'School': 'The Seeds School', 'Friend2': 'Akber', 'Friend3': 'Jazil'}\n"
     ]
    }
   ],
   "source": [
    "#program 7\n",
    "dictionary = {'Name': 'Jibran', 'Age': 12.5, 'Class': 'Seventh', 'DOB': '16 April 2006', 'School': 'The Seeds School', 'Friend1': 'Mohib', 'Friend2': 'Akber', 'Friend3': 'Jazil'}\n",
    "\n",
    "for x,y in dictionary.items():\n",
    "    print(x,y)\n",
    "dictionary.pop(\"Friend1\")\n",
    "print(dictionary)"
   ]
  },
  {
   "cell_type": "code",
   "execution_count": 22,
   "metadata": {},
   "outputs": [
    {
     "name": "stdout",
     "output_type": "stream",
     "text": [
      "dictionary['Age'] :  12.5\n",
      "dictionary['School'] :  The Seeds School\n",
      "dictionary['Friend1'] :  Mohib\n",
      "dictionary['Friend2'] :  Akber\n",
      "dictionary['Friend3'] :  Jazil\n",
      "{'Name': 'Jibran', 'Age': 12.5, 'Class': 'Seventh', 'DOB': '16 April 2006', 'School': 'The Seeds School', 'Friend2': 'Akber', 'Friend3': 'Jazil'}\n"
     ]
    }
   ],
   "source": [
    "#program 8\n",
    "dictionary = {'Name' : 'Jibran', 'Age' : 13, 'Class' : 'Seventh', 'DOB' : '16 April 2006'}\n",
    "dictionary['Age'] = 12.5\n",
    "dictionary['School'] = 'The Seeds School'\n",
    "\n",
    "print(\"dictionary['Age'] : \", dictionary['Age'])\n",
    "print(\"dictionary['School'] : \",dictionary['School'])\n",
    "\n",
    "dictionary['Friend1'] = 'Mohib'\n",
    "dictionary['Friend2'] = 'Akber'\n",
    "dictionary['Friend3'] = 'Jazil'\n",
    "\n",
    "print(\"dictionary['Friend1'] : \",dictionary['Friend1'])\n",
    "print(\"dictionary['Friend2'] : \",dictionary['Friend2'])\n",
    "print(\"dictionary['Friend3'] : \",dictionary['Friend3'])\n",
    "\n",
    "del dictionary['Friend1']\n",
    "print(dictionary)"
   ]
  },
  {
   "cell_type": "code",
   "execution_count": 23,
   "metadata": {},
   "outputs": [
    {
     "name": "stdout",
     "output_type": "stream",
     "text": [
      "Friend3 Jazil\n",
      "Name Jibran\n",
      "Age 12.5\n",
      "Class Seventh\n",
      "DOB 16 April 2006\n",
      "School The Seeds School\n",
      "Friend1 Mohib\n",
      "Friend2 Akber\n",
      "Friend3 Jazil\n",
      "After poping from the dictionary the remaining elements are : {'Name': 'Jibran', 'Age': 12.5, 'Class': 'Seventh', 'DOB': '16 April 2006', 'School': 'The Seeds School', 'Friend1': 'Mohib', 'Friend2': 'Akber'}\n"
     ]
    }
   ],
   "source": [
    "#program 9\n",
    "dictionary = {'Name': 'Jibran', 'Age': 12.5, 'Class': 'Seventh', 'DOB': '16 April 2006', 'School': 'The Seeds School', 'Friend1': 'Mohib', 'Friend2': 'Akber', 'Friend3': 'Jazil'}\n",
    "print(x,y)\n",
    "\n",
    "for x,y in dictionary.items():\n",
    "    print(x,y)\n",
    "dictionary.popitem()\n",
    "print('After poping from the dictionary the remaining elements are :',dictionary)"
   ]
  },
  {
   "cell_type": "code",
   "execution_count": 25,
   "metadata": {},
   "outputs": [
    {
     "name": "stdout",
     "output_type": "stream",
     "text": [
      "{1: {'Name': 'Syed Faisal Ali', 'Experience': '22', 'gender': 'Male'}, 2: {'Name': 'Dr. M Wasim', 'Experience': '23', 'gender': 'Male'}, 3: {'Name': 'Dr. Lubaid', 'Experience': '23', 'gender': 'Male'}, 4: {'Name': 'Noor ul Huda', 'Experience': '3', 'gender': 'Female'}, 5: {'Name': 'Farukh Lohana', 'Experience': '19', 'gender': 'Male'}, 6: {'Name': 'Fauzan Saeed', 'Experience': '15', 'gender': 'Male'}}\n"
     ]
    }
   ],
   "source": [
    "#program 10\n",
    "faculty = {1 : {'Name': 'Syed Faisal Ali', 'Experience' : '22' , 'gender' : 'Male'},\n",
    "           2 : {'Name': 'Dr. M Wasim', 'Experience' : '23' , 'gender' : 'Male'},\n",
    "           3 : {'Name': 'Dr. Lubaid', 'Experience' : '23' , 'gender' : 'Male'},\n",
    "           4 : {'Name': 'Noor ul Huda', 'Experience' : '3' , 'gender' : 'Female'},\n",
    "           5 : {'Name': 'Farukh Lohana', 'Experience' : '19' , 'gender' : 'Male'},\n",
    "           6 : {'Name': 'Fauzan Saeed', 'Experience' : '15' , 'gender' : 'Male'}\n",
    "          }\n",
    "print(faculty)"
   ]
  }
 ],
 "metadata": {
  "kernelspec": {
   "display_name": "Python 3",
   "language": "python",
   "name": "python3"
  },
  "language_info": {
   "codemirror_mode": {
    "name": "ipython",
    "version": 3
   },
   "file_extension": ".py",
   "mimetype": "text/x-python",
   "name": "python",
   "nbconvert_exporter": "python",
   "pygments_lexer": "ipython3",
   "version": "3.6.5"
  }
 },
 "nbformat": 4,
 "nbformat_minor": 2
}
