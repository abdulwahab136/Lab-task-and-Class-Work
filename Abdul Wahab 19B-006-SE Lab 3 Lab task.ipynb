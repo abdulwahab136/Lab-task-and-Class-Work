{
 "cells": [
  {
   "cell_type": "code",
   "execution_count": 4,
   "metadata": {},
   "outputs": [
    {
     "name": "stdout",
     "output_type": "stream",
     "text": [
      "\n",
      "\n",
      "Magnitude of linear velocity of point located at 0.5m from center\n",
      "Linear Velocity is  5.0  meter/second\n",
      "\n",
      "\n",
      "Magnitude of linear velocity of point located at 1m from center\n",
      "Linear Velocity is  10  meter/second\n",
      "\n",
      "\n",
      "Magnitude of linear velocity of point located at 2m from center\n",
      "Linear Velocity is  20  meter/second\n"
     ]
    }
   ],
   "source": [
    "#Question 1\n",
    "radius = 2 #in meters\n",
    "AngularSpeed = 10 #in radian per second\n",
    "\n",
    "\n",
    "print(\"\\n\\nMagnitude of linear velocity of point located at 0.5m from center\")\n",
    "radius = 0.5 #in meters\n",
    "linearVelocity = radius * AngularSpeed\n",
    "print(\"Linear Velocity is \", linearVelocity,\" meter/second\")\n",
    "\n",
    "\n",
    "print(\"\\n\\nMagnitude of linear velocity of point located at 1m from center\")\n",
    "radius = 1 #in meters\n",
    "linearVelocity = radius * AngularSpeed\n",
    "print(\"Linear Velocity is \", linearVelocity,\" meter/second\")\n",
    "\n",
    "\n",
    "print(\"\\n\\nMagnitude of linear velocity of point located at 2m from center\")\n",
    "radius = 2 #in meters\n",
    "linearVelocity = radius * AngularSpeed\n",
    "print(\"Linear Velocity is \", linearVelocity,\" meter/second\")"
   ]
  },
  {
   "cell_type": "code",
   "execution_count": 5,
   "metadata": {},
   "outputs": [
    {
     "name": "stdout",
     "output_type": "stream",
     "text": [
      "\n",
      "\n",
      "Magnitude of linear velocity of point located at 0.05m from center\n",
      "Linear Velocity is  26.16666666666667  meter/second\n",
      "\n",
      "\n",
      "Magnitude of linear velocity of point located at 0.1m from center\n",
      "Linear Velocity is  52.33333333333334  meter/second\n"
     ]
    }
   ],
   "source": [
    "#Question 2\n",
    "BlenderSpeed = 5000 #in rpm\n",
    "\n",
    "#blender speed in revolution per second\n",
    "rps = 5000/60\n",
    "\n",
    "#Angular Speed\n",
    "AngularSpeed = rps*6.28\n",
    "\n",
    "#linear Velocity of blender\n",
    "\n",
    "print(\"\\n\\nMagnitude of linear velocity of point located at 0.05m from center\")\n",
    "radius = 5/100 #in meters\n",
    "linearVelocity = radius * AngularSpeed\n",
    "print(\"Linear Velocity is \", linearVelocity,\" meter/second\")\n",
    "\n",
    "print(\"\\n\\nMagnitude of linear velocity of point located at 0.1m from center\")\n",
    "radius = 1/100 #in meters\n",
    "linearVelocity = radius * AngularSpeed\n",
    "print(\"Linear Velocity is \", linearVelocity,\" meter/second\")"
   ]
  },
  {
   "cell_type": "code",
   "execution_count": 8,
   "metadata": {},
   "outputs": [
    {
     "name": "stdout",
     "output_type": "stream",
     "text": [
      "Angular Velocity is  33.333333333333336  Radians/second\n"
     ]
    }
   ],
   "source": [
    "#Question # 3\n",
    "\n",
    "LinearVelocity = 10 #meter/second\n",
    "Radius = 30/100 #in meter\n",
    "\n",
    "AngularVelocity = LinearVelocity/Radius\n",
    "print(\"Angular Velocity is \", AngularVelocity,\" Radians/second\")"
   ]
  },
  {
   "cell_type": "code",
   "execution_count": 11,
   "metadata": {},
   "outputs": [
    {
     "name": "stdout",
     "output_type": "stream",
     "text": [
      "Angular Speed of car is  40.0  Radians/second\n"
     ]
    }
   ],
   "source": [
    "#Question # 4\n",
    "\n",
    "LinearVelocity = 10 #meter/second\n",
    "Radius = (50/2)/100 #in meter\n",
    "\n",
    "AngularVelocity = LinearVelocity/Radius\n",
    "print(\"Angular Speed of car is \", AngularVelocity,\" Radians/second\")"
   ]
  },
  {
   "cell_type": "code",
   "execution_count": 14,
   "metadata": {},
   "outputs": [
    {
     "name": "stdout",
     "output_type": "stream",
     "text": [
      "Distance travelled by car in 10 seconds is  25.120000000000005 meters\n"
     ]
    }
   ],
   "source": [
    "#Question # 5\n",
    "\n",
    "Radius = 20/100 #in meters\n",
    "time = 10 #in seconds\n",
    "\n",
    "rps = 120/60\n",
    "AngularSpeed = rps * 6.28\n",
    "\n",
    "Velocity  = AngularSpeed * Radius\n",
    "Distance = Velocity * time \n",
    "print(\"Distance travelled by car in 10 seconds is \",Distance , \"meters\" )"
   ]
  },
  {
   "cell_type": "code",
   "execution_count": 17,
   "metadata": {},
   "outputs": [
    {
     "name": "stdout",
     "output_type": "stream",
     "text": [
      "Distance travelled by car in 2 Hours is  140 miles\n"
     ]
    }
   ],
   "source": [
    "#Question # 6\n",
    "\n",
    "u = 50 #initial velocity in miles / hour\n",
    "a = 10 #accelaration\n",
    "t = 2 #time in hour\n",
    "\n",
    "velocity = u + a*t\n",
    "Distance = velocity * 2 \n",
    "print(\"Distance travelled by car in 2 Hours is \",Distance , \"miles\" )\n"
   ]
  },
  {
   "cell_type": "code",
   "execution_count": 19,
   "metadata": {},
   "outputs": [
    {
     "name": "stdout",
     "output_type": "stream",
     "text": [
      "Stone will hit the ground with Velocity of  80.0 meter/second\n"
     ]
    }
   ],
   "source": [
    "#Question # 7\n",
    "from math import sqrt\n",
    "\n",
    "s = 100 #height in feet\n",
    "u = 0 #initial velocity\n",
    "a = 32 #accelaration due to gravity\n",
    "\n",
    "velocity = sqrt(2*a*s)\n",
    "print(\"Stone will hit the ground with Velocity of \", velocity ,\"meter/second\")"
   ]
  },
  {
   "cell_type": "code",
   "execution_count": null,
   "metadata": {},
   "outputs": [],
   "source": []
  }
 ],
 "metadata": {
  "kernelspec": {
   "display_name": "Python 3",
   "language": "python",
   "name": "python3"
  },
  "language_info": {
   "codemirror_mode": {
    "name": "ipython",
    "version": 3
   },
   "file_extension": ".py",
   "mimetype": "text/x-python",
   "name": "python",
   "nbconvert_exporter": "python",
   "pygments_lexer": "ipython3",
   "version": "3.7.3"
  }
 },
 "nbformat": 4,
 "nbformat_minor": 2
}
