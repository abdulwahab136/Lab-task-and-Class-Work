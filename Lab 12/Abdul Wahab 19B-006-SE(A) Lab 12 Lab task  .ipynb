{
 "cells": [
  {
   "cell_type": "code",
   "execution_count": 1,
   "metadata": {},
   "outputs": [
    {
     "name": "stdout",
     "output_type": "stream",
     "text": [
      "[2, 4, 6, 8]\n"
     ]
    }
   ],
   "source": [
    "#program 1\n",
    "#without comprehension\n",
    "input_list = [1,2,3,4,5,6,7,8]\n",
    "output_list = []\n",
    "for var in input_list:\n",
    "    if var % 2 == 0:\n",
    "        output_list.append(var)\n",
    "print(output_list)"
   ]
  },
  {
   "cell_type": "code",
   "execution_count": 3,
   "metadata": {},
   "outputs": [
    {
     "name": "stdout",
     "output_type": "stream",
     "text": [
      "[2, 4, 6, 8]\n"
     ]
    }
   ],
   "source": [
    "#program 2\n",
    "#with comprehension\n",
    "input_list = [1,2,3,4,5,6,7,8]\n",
    "list_using_comp=[var for var in input_list if var % 2 ==  0]\n",
    "print(list_using_comp)"
   ]
  },
  {
   "cell_type": "code",
   "execution_count": 6,
   "metadata": {},
   "outputs": [
    {
     "name": "stdout",
     "output_type": "stream",
     "text": [
      "Using For Loop :  [1, 4, 9, 16, 25, 36, 49, 64, 81]\n"
     ]
    }
   ],
   "source": [
    "#program 3\n",
    "#without comprehension\n",
    "output_list = []\n",
    "for var in range(1,10):\n",
    "    output_list.append(var**2)\n",
    "print(\"Using For Loop : \",output_list)"
   ]
  },
  {
   "cell_type": "code",
   "execution_count": 7,
   "metadata": {},
   "outputs": [
    {
     "name": "stdout",
     "output_type": "stream",
     "text": [
      "[1, 4, 9, 16, 25, 36, 49, 64, 81]\n"
     ]
    }
   ],
   "source": [
    "#program 4\n",
    "#with comprehension\n",
    "output_list = [var**2 for var in range(1,10)]\n",
    "print(\"Using List Comprehension : \" ,output_list)"
   ]
  },
  {
   "cell_type": "code",
   "execution_count": 8,
   "metadata": {},
   "outputs": [
    {
     "name": "stdout",
     "output_type": "stream",
     "text": [
      "[10, 20, 30, 40, 50, 60, 70, 80, 90]\n"
     ]
    }
   ],
   "source": [
    "#program 5\n",
    "num_list = [ y for y in range(1,100) if y % 2 ==0 if y % 5 == 0]\n",
    "print(num_list)"
   ]
  },
  {
   "cell_type": "code",
   "execution_count": 15,
   "metadata": {},
   "outputs": [
    {
     "name": "stdout",
     "output_type": "stream",
     "text": [
      "[[1, 5], [2, 6], [3, 7], [4, 8]]\n"
     ]
    }
   ],
   "source": [
    "#program 6\n",
    "#without comprehension\n",
    "transposed = []\n",
    "matrix = [[1,2,3,4],[5,6,7,8]]\n",
    "\n",
    "for i in range(len(matrix[0])):\n",
    "    transposed_row = []\n",
    "    \n",
    "    for row in matrix:\n",
    "        transposed_row.append(row[i])\n",
    "    transposed.append(transposed_row)\n",
    "    \n",
    "print(transposed)"
   ]
  },
  {
   "cell_type": "code",
   "execution_count": 17,
   "metadata": {},
   "outputs": [
    {
     "name": "stdout",
     "output_type": "stream",
     "text": [
      "[[1, 3, 5, 7], [2, 4, 6, 8]]\n"
     ]
    }
   ],
   "source": [
    "#program 7\n",
    "#with comprehension\n",
    "matrix = [[1, 2], [3, 4], [5, 6], [7, 8]]\n",
    "transpose = [[row[i] for row in matrix] for i in range(2)]\n",
    "print(transpose)"
   ]
  },
  {
   "cell_type": "code",
   "execution_count": 21,
   "metadata": {},
   "outputs": [
    {
     "name": "stdout",
     "output_type": "stream",
     "text": [
      "{'a': 2, 'b': 4, 'c': 6, 'd': 8, 'e': 10}\n"
     ]
    }
   ],
   "source": [
    "#program 8\n",
    "dict1 = {'a':1,'b':2,'c':3,'d':4,'e':5}\n",
    "double_dict = {k:v*2 for (k,v) in dict1.items()}\n",
    "print(double_dict)"
   ]
  },
  {
   "cell_type": "code",
   "execution_count": 20,
   "metadata": {},
   "outputs": [
    {
     "name": "stdout",
     "output_type": "stream",
     "text": [
      "{'aa': 3, 'bb': 6, 'cc': 9, 'dd': 12, 'ee': 15}\n"
     ]
    }
   ],
   "source": [
    "#program 9\n",
    "dict1 = {'a':1,'b':2,'c':3,'d':4,'e':5}\n",
    "double_dict = {k*2:v*3 for (k,v) in dict1.items()}\n",
    "print(double_dict)"
   ]
  },
  {
   "cell_type": "code",
   "execution_count": 33,
   "metadata": {},
   "outputs": [
    {
     "name": "stdout",
     "output_type": "stream",
     "text": [
      "{'d': 4}\n"
     ]
    }
   ],
   "source": [
    "#program 10\n",
    "dict1 = {'a':1,'b':2,'c':3,'d':4,'e':5}\n",
    "dic1_doublecond = {k:v for (k,v) in dict1.items() if v > 2 if v % 2 == 0}\n",
    "print(dic1_doublecond)"
   ]
  },
  {
   "cell_type": "code",
   "execution_count": 37,
   "metadata": {},
   "outputs": [
    {
     "name": "stdout",
     "output_type": "stream",
     "text": [
      "{'first': {1.0}, 'second': {2.0}, 'third': {3.0}, 'forth': {4.0}}\n"
     ]
    }
   ],
   "source": [
    "#program 11\n",
    "nested_dict = {'first':{'a':1},'second':{'b':2},'third':{'c':3},'forth':{'d':4}}\n",
    "float_dict = {outer_k:{float(inner_v) for (inner_k,inner_v) in outer_v.items()} for (outer_k,outer_v) in nested_dict.items()}\n",
    "print(float_dict)\n",
    "\n",
    "#The numerical values of sub dictionaries were converted to float values and only main dictionary's key and sub dictionary's\n",
    "#were displayed"
   ]
  },
  {
   "cell_type": "code",
   "execution_count": 24,
   "metadata": {},
   "outputs": [
    {
     "name": "stdout",
     "output_type": "stream",
     "text": [
      "343\n",
      "125\n"
     ]
    }
   ],
   "source": [
    "#program 12\n",
    "def cube(y):\n",
    "    return y*y*y\n",
    "\n",
    "c = lambda x: x*x*x\n",
    "print(c(7))\n",
    "print(cube(5))"
   ]
  },
  {
   "cell_type": "code",
   "execution_count": 26,
   "metadata": {},
   "outputs": [
    {
     "name": "stdout",
     "output_type": "stream",
     "text": [
      "[5, 7, 97, 77, 23, 73, 61]\n"
     ]
    }
   ],
   "source": [
    "#program 13\n",
    "li = [5,7,22,97,54,62,77,23,73,61]\n",
    "final_list = list(filter(lambda x: (x%2 != 0),li))\n",
    "print(final_list)"
   ]
  },
  {
   "cell_type": "code",
   "execution_count": 27,
   "metadata": {},
   "outputs": [
    {
     "name": "stdout",
     "output_type": "stream",
     "text": [
      "[10, 14, 44, 194, 108, 124, 154, 46, 146, 122]\n"
     ]
    }
   ],
   "source": [
    "#program 14\n",
    "li = [5,7,22,97,54,62,77,23,73,61]\n",
    "final_list = list(map(lambda x: x*2,li))\n",
    "print(final_list)"
   ]
  },
  {
   "cell_type": "code",
   "execution_count": 32,
   "metadata": {},
   "outputs": [
    {
     "name": "stdout",
     "output_type": "stream",
     "text": [
      "193\n"
     ]
    }
   ],
   "source": [
    "#program 15\n",
    "from functools import reduce\n",
    "li = [5,8,10,20,50,100]\n",
    "x = reduce(lambda x,y: x+y, li)\n",
    "print(x)"
   ]
  }
 ],
 "metadata": {
  "kernelspec": {
   "display_name": "Python 3",
   "language": "python",
   "name": "python3"
  },
  "language_info": {
   "codemirror_mode": {
    "name": "ipython",
    "version": 3
   },
   "file_extension": ".py",
   "mimetype": "text/x-python",
   "name": "python",
   "nbconvert_exporter": "python",
   "pygments_lexer": "ipython3",
   "version": "3.7.3"
  }
 },
 "nbformat": 4,
 "nbformat_minor": 2
}
