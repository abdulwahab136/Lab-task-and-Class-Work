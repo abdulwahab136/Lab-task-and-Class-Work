{
 "cells": [
  {
   "cell_type": "code",
   "execution_count": 5,
   "metadata": {},
   "outputs": [
    {
     "name": "stdout",
     "output_type": "stream",
     "text": [
      "Number of Items Returned :  77\n"
     ]
    }
   ],
   "source": [
    "#Question 2\n",
    "import sqlite3\n",
    "con = sqlite3.connect('Northwind.db')\n",
    "\n",
    "def sql_fetch(con):\n",
    "    count = 0\n",
    "    cursorObj = con.cursor()\n",
    "    cursorObj.execute(\"SELECT * FROM products\")\n",
    "    rows = cursorObj.fetchall()\n",
    "    for row in rows:\n",
    "        count = count + 1\n",
    "    return print(\"Number of Items Returned : \",count)\n",
    "sql_fetch(con)\n"
   ]
  },
  {
   "cell_type": "code",
   "execution_count": 6,
   "metadata": {},
   "outputs": [
    {
     "name": "stdout",
     "output_type": "stream",
     "text": [
      "Number of Items Returned :  8\n"
     ]
    }
   ],
   "source": [
    "\n",
    "import sqlite3\n",
    "con = sqlite3.connect('Northwind.db')\n",
    "\n",
    "def sql_fetch(con):\n",
    "    count = 0\n",
    "    cursorObj = con.cursor()\n",
    "    cursorObj.execute(\"SELECT * FROM categories\")\n",
    "    rows = cursorObj.fetchall()\n",
    "    for row in rows:\n",
    "        count = count + 1\n",
    "    return print(\"Number of Items Returned : \",count)\n",
    "sql_fetch(con)\n"
   ]
  },
  {
   "cell_type": "code",
   "execution_count": 8,
   "metadata": {},
   "outputs": [
    {
     "name": "stdout",
     "output_type": "stream",
     "text": [
      "Number of Records Returned :  77\n"
     ]
    }
   ],
   "source": [
    "import sqlite3\n",
    "con = sqlite3.connect('Northwind.db')\n",
    "\n",
    "def sql_fetch(con):\n",
    "    count = 0\n",
    "    cursorObj = con.cursor()\n",
    "    cursorObj.execute(\"SELECT ProductName,QuantityPerUnit FROM products\")\n",
    "    rows = cursorObj.fetchall()\n",
    "    for row in rows:\n",
    "        count = count + 1\n",
    "    return print(\"Number of Records Returned : \",count)\n",
    "sql_fetch(con)"
   ]
  },
  {
   "cell_type": "code",
   "execution_count": 18,
   "metadata": {},
   "outputs": [
    {
     "name": "stdout",
     "output_type": "stream",
     "text": [
      "Number of Items Returned :  1\n"
     ]
    }
   ],
   "source": [
    "import sqlite3\n",
    "con = sqlite3.connect('Northwind.db')\n",
    "\n",
    "def sql_fetch(con):\n",
    "    count = 0\n",
    "    cursorObj = con.cursor()\n",
    "    cursorObj.execute(\"SELECT * FROM categories WHERE CategoryName like 'G%'\")\n",
    "    rows = cursorObj.fetchall()\n",
    "    for row in rows:\n",
    "        count = count + 1\n",
    "    return print(\"Number of Items Returned : \",count)\n",
    "sql_fetch(con)"
   ]
  },
  {
   "cell_type": "code",
   "execution_count": 21,
   "metadata": {},
   "outputs": [
    {
     "name": "stdout",
     "output_type": "stream",
     "text": [
      "(5, \"Chef Anton's Gumbo Mix\")\n",
      "(9, 'Mishi Kobe Niku')\n",
      "(17, 'Alice Mutton')\n",
      "(24, 'Guaraná Fantástica')\n",
      "(28, 'Rössle Sauerkraut')\n",
      "(29, 'Thüringer Rostbratwurst')\n",
      "(42, 'Singaporean Hokkien Fried Mee')\n",
      "(53, 'Perth Pasties')\n",
      "Number of Items Returned :  8\n"
     ]
    }
   ],
   "source": [
    "import sqlite3\n",
    "con = sqlite3.connect('Northwind.db')\n",
    "\n",
    "def sql_fetch(con):\n",
    "    count = 0\n",
    "    cursorObj = con.cursor()\n",
    "    cursorObj.execute(\"SELECT ProductID,ProductName FROM products WHERE Discontinued ='1'\")\n",
    "    rows = cursorObj.fetchall()\n",
    "    for row in rows:\n",
    "        print(row)\n",
    "        count = count + 1\n",
    "    return print(\"Number of Items Returned : \",count)\n",
    "sql_fetch(con)"
   ]
  },
  {
   "cell_type": "code",
   "execution_count": 22,
   "metadata": {},
   "outputs": [
    {
     "name": "stdout",
     "output_type": "stream",
     "text": [
      "Number of Items Returned :  69\n"
     ]
    }
   ],
   "source": [
    "import sqlite3\n",
    "con = sqlite3.connect('Northwind.db')\n",
    "\n",
    "def sql_fetch(con):\n",
    "    count = 0\n",
    "    cursorObj = con.cursor()\n",
    "    cursorObj.execute(\"SELECT ProductID,ProductName FROM products WHERE Discontinued ='0'\")\n",
    "    rows = cursorObj.fetchall()\n",
    "    for row in rows:\n",
    "        count = count + 1\n",
    "    return print(\"Number of Items Returned : \",count)\n",
    "sql_fetch(con)"
   ]
  },
  {
   "cell_type": "code",
   "execution_count": 26,
   "metadata": {},
   "outputs": [
    {
     "name": "stdout",
     "output_type": "stream",
     "text": [
      "Number of Items Returned :  77\n"
     ]
    }
   ],
   "source": [
    "import sqlite3\n",
    "con = sqlite3.connect('Northwind.db')\n",
    "\n",
    "def sql_fetch(con):\n",
    "    count = 0\n",
    "    cursorObj = con.cursor()\n",
    "    cursorObj.execute(\"SELECT ProductName,UnitPrice FROM products ORDER BY UnitPrice Desc\")\n",
    "    rows = cursorObj.fetchall()\n",
    "    for row in rows:\n",
    "        count = count + 1\n",
    "    return print(\"Number of Items Returned : \",count)\n",
    "sql_fetch(con)\n",
    "#Data was returned in descending order starting from highest unit price"
   ]
  },
  {
   "cell_type": "code",
   "execution_count": 32,
   "metadata": {},
   "outputs": [
    {
     "name": "stdout",
     "output_type": "stream",
     "text": [
      "Number of Items Returned :  37\n"
     ]
    }
   ],
   "source": [
    "import sqlite3\n",
    "con = sqlite3.connect('Northwind.db')\n",
    "\n",
    "def sql_fetch(con):\n",
    "    count = 0\n",
    "    cursorObj = con.cursor()\n",
    "    cursorObj.execute(\"SELECT ProductID,ProductName,UnitPrice FROM products WHERE (((UnitPrice)<20)AND((Discontinued)='0')) ORDER BY UnitPrice Desc\")\n",
    "    rows = cursorObj.fetchall()\n",
    "    for row in rows:\n",
    "        \n",
    "        count = count + 1\n",
    "    return print(\"Number of Items Returned : \",count)\n",
    "sql_fetch(con)\n",
    "#data was arranged in descending order relative to cost price"
   ]
  },
  {
   "cell_type": "code",
   "execution_count": 37,
   "metadata": {},
   "outputs": [
    {
     "name": "stdout",
     "output_type": "stream",
     "text": [
      "Average UnitPrice :  [(28.866363636363637,)]\n"
     ]
    }
   ],
   "source": [
    "import sqlite3\n",
    "con = sqlite3.connect('Northwind.db')\n",
    "\n",
    "def sql_fetch(con):\n",
    "    count = 0\n",
    "    cursorObj = con.cursor()\n",
    "    cursorObj.execute(\"SELECT AVG(UnitPrice) FROM products\")\n",
    "    rows = cursorObj.fetchall()\n",
    "    \n",
    "    print(\"Average UnitPrice : \",rows)\n",
    "    \n",
    "sql_fetch(con)"
   ]
  },
  {
   "cell_type": "code",
   "execution_count": 44,
   "metadata": {},
   "outputs": [
    {
     "name": "stdout",
     "output_type": "stream",
     "text": [
      "('Alice Mutton', 39)\n",
      "('Camembert Pierrot', 34)\n",
      "('Carnarvon Tigers', 62.5)\n",
      "('Côte de Blaye', 263.5)\n",
      "('Gnocchi di nonna Alice', 38)\n",
      "('Gudbrandsdalsost', 36)\n",
      "('Gumbär Gummibärchen', 31.23)\n",
      "('Ikura', 31)\n",
      "('Ipoh Coffee', 46)\n",
      "('Manjimup Dried Apples', 53)\n",
      "('Mascarpone Fabioli', 32)\n",
      "('Mishi Kobe Niku', 97)\n",
      "('Mozzarella di Giovanni', 34.8)\n",
      "('Northwoods Cranberry Sauce', 40)\n",
      "('Perth Pasties', 32.8)\n",
      "('Queso Manchego La Pastora', 38)\n",
      "('Raclette Courdavault', 55)\n",
      "('Rössle Sauerkraut', 45.6)\n",
      "('Schoggi Schokolade', 43.9)\n",
      "(\"Sir Rodney's Marmalade\", 81)\n",
      "('Tarte au sucre', 49.3)\n",
      "('Thüringer Rostbratwurst', 123.79)\n",
      "(\"Uncle Bob's Organic Dried Pears\", 30)\n",
      "('Vegie-spread', 43.9)\n",
      "('Wimmers gute Semmelknödel', 33.25)\n",
      "Number of Items Returned :  25\n"
     ]
    }
   ],
   "source": [
    "import sqlite3\n",
    "con = sqlite3.connect('Northwind.db')\n",
    "\n",
    "def sql_fetch(con):\n",
    "    count = 0\n",
    "    cursorObj = con.cursor()\n",
    "    cursorObj.execute(\"SELECT Distinct ProductName,UnitPrice FROM products WHERE UnitPrice > (Select avg(UnitPrice) from products ORDER BY UnitPrice)\")\n",
    "    rows = cursorObj.fetchall()\n",
    "    for row in rows:\n",
    "        print(row)\n",
    "        count = count + 1\n",
    "    return print(\"Number of Items Returned : \",count)\n",
    "sql_fetch(con)"
   ]
  }
 ],
 "metadata": {
  "kernelspec": {
   "display_name": "Python 3",
   "language": "python",
   "name": "python3"
  },
  "language_info": {
   "codemirror_mode": {
    "name": "ipython",
    "version": 3
   },
   "file_extension": ".py",
   "mimetype": "text/x-python",
   "name": "python",
   "nbconvert_exporter": "python",
   "pygments_lexer": "ipython3",
   "version": "3.6.5"
  }
 },
 "nbformat": 4,
 "nbformat_minor": 2
}
