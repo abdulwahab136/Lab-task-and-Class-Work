{
 "cells": [
  {
   "cell_type": "code",
   "execution_count": 22,
   "metadata": {},
   "outputs": [
    {
     "name": "stdout",
     "output_type": "stream",
     "text": [
      "Number of Days between these dates are :1027\n"
     ]
    }
   ],
   "source": [
    "#programming Exercise Question 1\n",
    "from datetime import date\n",
    "date1= date(2016, 12 , 19) \n",
    "date2= date(2019, 10 , 12) \n",
    "diff= date2-date1\n",
    "print(\"Number of Days between these dates are :\" +str(diff.days))"
   ]
  },
  {
   "cell_type": "code",
   "execution_count": 23,
   "metadata": {},
   "outputs": [
    {
     "name": "stdout",
     "output_type": "stream",
     "text": [
      "For length 16 and angle 75 degree height is :15.454813220625093\n",
      "For length 20 and angle @ degree height is :0.0\n",
      "For length 24 and angle 45 degree height is :16.970562748477143\n",
      "For length 24 and angle 80 degree height is :23.63538607229299\n"
     ]
    }
   ],
   "source": [
    "#Programming Exercise Question 2\n",
    "from math import sin\n",
    "from math import pi\n",
    "l1=(16)\n",
    "l2=(20)\n",
    "l3=(24)\n",
    "l4=(24)\n",
    "a1=(75)\n",
    "a2=(0)\n",
    "a3=(45)\n",
    "a4=(80)\n",
    "#Height for 1st Ladder\n",
    "radians = pi * a1/180\n",
    "h1=l1*sin(radians)\n",
    "print(\"For length 16 and angle 75 degree height is :\" +str(h1)) \n",
    "#Height for 2nd Ladder\n",
    "radians = pi * a2/180\n",
    "h2=l2*sin(radians)\n",
    "print(\"For length 20 and angle @ degree height is :\" +str(h2))\n",
    "#Height for 3rd Ladder\n",
    "radians = pi * a3/180\n",
    "h3=l3*sin(radians )\n",
    "print(\"For length 24 and angle 45 degree height is :\" +str(h3)) \n",
    "#Height for 4th Ladder\n",
    "radians = pi * a4/180\n",
    "h4=l4*sin(radians)\n",
    "print(\"For length 24 and angle 80 degree height is :\" +str(h4))\n"
   ]
  },
  {
   "cell_type": "code",
   "execution_count": 24,
   "metadata": {},
   "outputs": [
    {
     "name": "stdout",
     "output_type": "stream",
     "text": [
      "Middle Index Value of list is :2.0\n",
      "Middle value of List is : 3\n",
      "Reverse sorted value of list : [5, 4, 3, 2, 1]\n",
      "Removing first element and putting it in the end :[2, 3, 4, 5, 1]\n"
     ]
    }
   ],
   "source": [
    "#programming Question # 3\n",
    "\n",
    "list = [1,2,3,4,5] \n",
    "middleindex = (len(list)-1)/2 \n",
    "print(\"Middle Index Value of list is :\" +str(middleindex) )\n",
    "\n",
    "midvalue = list[int(len(list)/2)]\n",
    "print(\"Middle value of List is : \"+str(midvalue) )\n",
    "\n",
    "sort = sorted(list,reverse=True)\n",
    "print(\"Reverse sorted value of list : \" +str(sort))\n",
    "\n",
    "b= list.pop(0) \n",
    "c=list.append(1) \n",
    "print(\"Removing first element and putting it in the end :\" +str(list))\n"
   ]
  },
  {
   "cell_type": "code",
   "execution_count": 25,
   "metadata": {},
   "outputs": [
    {
     "name": "stdout",
     "output_type": "stream",
     "text": [
      "List monthsL : ['Jan', 'Feb', 'Mar', 'May']\n",
      "Tuple monthsT: ('Jan', 'Feb', 'Mar', 'May')\n",
      "\n",
      "\n",
      "After applying append on list monthsL: ['Jan', 'Feb', 'Mar', 'May', 'Jun']\n",
      "append gave error on tuple monthsT\n",
      "\n",
      "\n",
      "Inserting in list monthsL: ['Jan', 'Feb', 'Mar', 'Apr', 'May', 'Jun']\n",
      "insert gave error on tuple monthsT\n",
      "\n",
      "\n",
      "After applying pop on list monthsL : ['Jan', 'Feb', 'Mar', 'Apr', 'May']\n",
      "Insert gave error on tuple monthsT\n",
      "\n",
      "\n",
      "removing item on list monthsL['Jan', 'Mar', 'Apr', 'May']\n",
      "removing item gave error on tuple MonthsT\n",
      "\n",
      "\n",
      "reverse on list monthsL['May', 'Apr', 'Mar', 'Jan']\n",
      "reverse command gave error on tuple monthsT\n",
      "\n",
      "\n",
      "sorting on list monthsL['Apr', 'Jan', 'Mar', 'May']\n",
      "sorting gave error in tuple monthsT\n"
     ]
    }
   ],
   "source": [
    "#programming Question # 4\n",
    "\n",
    "monthsL=['Jan', 'Feb','Mar', 'May' ] \n",
    "monthsT=('Jan', 'Feb','Mar', 'May')\n",
    "print(\"List monthsL : \" +str(monthsL) ) \n",
    "print(\"Tuple monthsT: \" +str(monthsT) )\n",
    "\n",
    "monthsL.append(\"Jun\")\n",
    "#monthsT.append(\"jun\")\n",
    "print(\"\\n\\nAfter applying append on list monthsL: \" +str(monthsL) ) \n",
    "print(\"append gave error on tuple monthsT\")\n",
    "\n",
    "monthsL.insert(3, \"Apr\")\n",
    "#monthsT. insert (3, “Apr” )\n",
    "print(\"\\n\\nInserting in list monthsL: \" +str(monthsL) ) \n",
    "print(\"insert gave error on tuple monthsT\")\n",
    "\n",
    "\n",
    "monthsL.pop()\n",
    "#monthsT.pop() ;\n",
    "print(\"\\n\\nAfter applying pop on list monthsL : \" +str(monthsL) ) \n",
    "print(\"Insert gave error on tuple monthsT\")\n",
    "\n",
    "\n",
    "monthsL.remove(\"Feb\" )\n",
    "#monthsT.remove(\"Feb\")\n",
    "print(\"\\n\\nremoving item on list monthsL\" +str(monthsL) ) \n",
    "print(\"removing item gave error on tuple MonthsT\")\n",
    "\n",
    "\n",
    "monthsL.reverse() \n",
    "#monthsT.reverse() \n",
    "print(\"\\n\\nreverse on list monthsL\" +str(monthsL) ) \n",
    "print(\"reverse command gave error on tuple monthsT\")\n",
    "\n",
    "\n",
    "monthsL.sort()\n",
    "#monthsT.sort()\n",
    "print(\"\\n\\nsorting on list monthsL\" +str(monthsL) )\n",
    "print(\"sorting gave error in tuple monthsT\")\n"
   ]
  },
  {
   "cell_type": "code",
   "execution_count": 26,
   "metadata": {},
   "outputs": [
    {
     "name": "stdout",
     "output_type": "stream",
     "text": [
      "number of character in anachronistically is : 17\n",
      "number of character in counterintuitive is : 16\n",
      "The number of characters in the word anachronistically is 1 more than the number of characters in the word counterintuitive\n",
      "\n",
      "\n",
      "sorting of dictionary gives words in this order \n",
      "['misinterpretation', 'misrepresentation']\n",
      "\n",
      "\n",
      "number of time e appear in floccinaucinihilipilification is 0\n",
      "\n",
      "\n",
      "number of character in counterrevolution is :17\n",
      "sum of number of character in counter and resolution is :17\n"
     ]
    }
   ],
   "source": [
    "#programming question # 5\n",
    "a = 'anachronistically'\n",
    "b = 'counterintuitive'\n",
    "print(\"number of character in anachronistically is : \" +str(len(a)))\n",
    "print(\"number of character in counterintuitive is : \" +str(len(b)))\n",
    "print(\"The number of characters in the word anachronistically is \" +str(len(a)-len(b))+ \" more than the number of characters in the word counterintuitive\" )\n",
    "\n",
    "dictionary = ['misrepresentation', 'misinterpretation' ] \n",
    "dictionary.sort()\n",
    "print(\"\\n\\nsorting of dictionary gives words in this order \") \n",
    "print(dictionary )\n",
    "\n",
    "word='floccinaucinihilipilification' \n",
    "print(\"\\n\\nnumber of time e appear in floccinaucinihilipilification is \" +str(word.count(\"e\")))\n",
    "\n",
    "word1='counterrevolution' \n",
    "word2='counter' \n",
    "word3='resolution'\n",
    "print(\"\\n\\nnumber of character in counterrevolution is :\" +str(len(word1)) ) \n",
    "print(\"sum of number of character in counter and resolution is :\" +str(len(word2)+(len( word3) )))\n"
   ]
  },
  {
   "cell_type": "code",
   "execution_count": 27,
   "metadata": {},
   "outputs": [
    {
     "name": "stdout",
     "output_type": "stream",
     "text": [
      "dart has x cordinate 0 and y cordinate 0\n",
      "Dart has hit within the dartboard\n",
      "\n",
      "dart has x cordinate 10 and y cordinate 10\n",
      "Dart has hit outside the dartboard\n",
      "\n",
      "dart has x cordinate 6 and y cordinate 6\n",
      "\\Dart has hit within the dartboard\n",
      "\n",
      "dart has x cordinate 7 and y cordinate 8\n",
      "Dart has hit outside the dartboard\n"
     ]
    }
   ],
   "source": [
    "from math import sqrt\n",
    "\n",
    "r = 10\n",
    "\n",
    "x=0\n",
    "y=0\n",
    "distance = sqrt(x**2+y**2)\n",
    "print(\"dart has x cordinate \" +str(x)+ \" and y cordinate \" +str(y))\n",
    "if distance < r :\n",
    "    print(\"Dart has hit within the dartboard\")\n",
    "    \n",
    "if distance > r :\n",
    "    print(\"Dart has hit outside the dartboard\")\n",
    "    \n",
    "x=10\n",
    "y=10\n",
    "distance = sqrt(x**2+y**2)\n",
    "print(\"\\ndart has x cordinate \" +str(x)+ \" and y cordinate \" +str(y))\n",
    "if distance < r :\n",
    "    print(\"\\Dart has hit within the dartboard\")\n",
    "    \n",
    "if distance > r :\n",
    "    print(\"Dart has hit outside the dartboard\") \n",
    "    \n",
    "x=6\n",
    "y=6\n",
    "distance = sqrt(x**2+y**2)\n",
    "print(\"\\ndart has x cordinate \" +str(x)+ \" and y cordinate \" +str(y))\n",
    "if distance < r :\n",
    "    print(\"\\Dart has hit within the dartboard\")\n",
    "    \n",
    "if distance > r :\n",
    "    print(\"Dart has hit outside the dartboard\") \n",
    "    \n",
    "x=7\n",
    "y=8\n",
    "distance = sqrt(x**2+y**2)\n",
    "print(\"\\ndart has x cordinate \" +str(x)+ \" and y cordinate \" +str(y))\n",
    "if distance < r :\n",
    "    print(\"\\Dart has hit within the dartboard\")\n",
    "    \n",
    "if distance > r :\n",
    "    print(\"Dart has hit outside the dartboard\") "
   ]
  },
  {
   "cell_type": "code",
   "execution_count": null,
   "metadata": {},
   "outputs": [],
   "source": []
  }
 ],
 "metadata": {
  "kernelspec": {
   "display_name": "Python 3",
   "language": "python",
   "name": "python3"
  },
  "language_info": {
   "codemirror_mode": {
    "name": "ipython",
    "version": 3
   },
   "file_extension": ".py",
   "mimetype": "text/x-python",
   "name": "python",
   "nbconvert_exporter": "python",
   "pygments_lexer": "ipython3",
   "version": "3.7.3"
  }
 },
 "nbformat": 4,
 "nbformat_minor": 2
}
