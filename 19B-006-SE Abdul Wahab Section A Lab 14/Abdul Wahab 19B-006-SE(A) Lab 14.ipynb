{
 "cells": [
  {
   "cell_type": "code",
   "execution_count": 3,
   "metadata": {},
   "outputs": [],
   "source": [
    "#program 1\n",
    "import sqlite3\n",
    "con = sqlite3.connect('AbdulWahab.db')\n"
   ]
  },
  {
   "cell_type": "code",
   "execution_count": null,
   "metadata": {},
   "outputs": [],
   "source": [
    "#program 2\n",
    "import sqlite3\n",
    "con = sqlite3.connect('AbdulWahab.db')\n",
    "cursorObj = con.cursor()\n"
   ]
  },
  {
   "cell_type": "code",
   "execution_count": null,
   "metadata": {},
   "outputs": [],
   "source": [
    "#program 3\n",
    "import sqlite3\n",
    "from sqlite3 import Error\n",
    "\n",
    "def sql_connection():\n",
    "    try:\n",
    "        con = sqlite3.connect('AbdulWahab.db')\n",
    "        return con\n",
    "    except Error :\n",
    "        print(Error)\n",
    "        \n",
    "def sql_table(con):\n",
    "    cursorObj = con.cursor()\n",
    "    cursorObj.execute(\"CREATE TABLE employees(id integer PRIMARY KEY,name text,salary real,department text ,position text,hireDate Text)\")\n",
    "    con.commit()\n",
    "con = sql_connection()\n",
    "sql_table(con)"
   ]
  },
  {
   "cell_type": "code",
   "execution_count": 9,
   "metadata": {},
   "outputs": [],
   "source": [
    "#program 4\n",
    "import sqlite3\n",
    "con = sqlite3.connect('AbdulWahab.db')\n",
    "cursorObj = con.cursor()\n",
    "\n",
    "cursorObj.execute(\"INSERT INTO employees VALUES(1,'Parkash',20000,'CS','Asst. Professor','1/8/2002')\")\n",
    "cursorObj.execute(\"INSERT INTO employees VALUES(2,'Ahmed',80000,'SE','Professor','13/3/2002')\")\n",
    "cursorObj.execute(\"INSERT INTO employees VALUES(3,'Usman',60000,'CS','Asst. Professor','12/2/2004')\")\n",
    "cursorObj.execute(\"INSERT INTO employees VALUES(4,'Ali',50000,'SE','Lecturar','20/8/2002')\")\n",
    "cursorObj.execute(\"INSERT INTO employees VALUES(5,'Taha',20000,'CS','Lab Assistent','20/7/2004')\")\n",
    "cursorObj.execute(\"INSERT INTO employees VALUES(6,'Shabbir',12000,'SE','Asst. Professor','20/6/2006')\")\n",
    "cursorObj.execute(\"INSERT INTO employees VALUES(7,'Ismail',20000,'CS','Junior Lecturar','20/3/2006')\")\n",
    "cursorObj.execute(\"INSERT INTO employees VALUES(8,'Omer',50000,'SE','Professor','10/12/2002')\")\n",
    "cursorObj.execute(\"INSERT INTO employees VALUES(9,'Adnan',30000,'CS','Asst Professor','2/4/2009')\")\n",
    "cursorObj.execute(\"INSERT INTO employees VALUES(10,'Sulman',20000,'SE','Junior Lecturar','10/3/2008')\")\n",
    "con.commit()"
   ]
  },
  {
   "cell_type": "code",
   "execution_count": 23,
   "metadata": {},
   "outputs": [],
   "source": [
    "#program 5\n",
    "import sqlite3\n",
    "con = sqlite3.connect('AbdulWahab.db')\n",
    "\n",
    "def sql_insert(con,entities):\n",
    "    cursorObj = con.cursor()\n",
    "    cursorObj.execute(\"INSERT INTO employees(id,name,salary,department,position,hireDate) VALUES(?,?,?,?,?,?)\",entities)\n",
    "    con.commit()\n",
    "    \n",
    "entities = (11,\"Lubaid\",35000,'CS','Asst.Prof','2/6/2016')\n",
    " \n",
    "sql_insert(con,entities)    "
   ]
  },
  {
   "cell_type": "code",
   "execution_count": 24,
   "metadata": {},
   "outputs": [],
   "source": [
    "#program 6\n",
    "import sqlite3\n",
    "con = sqlite3.connect('AbdulWahab.db')\n",
    "cursorObj = con.cursor()\n",
    "\n",
    "cursorObj.execute('UPDATE employees SET name = \"Lubaid Ahmed\" WHERE id = 11')\n",
    "con.commit()"
   ]
  },
  {
   "cell_type": "code",
   "execution_count": 25,
   "metadata": {},
   "outputs": [
    {
     "name": "stdout",
     "output_type": "stream",
     "text": [
      "(1, 'Parkash')\n",
      "(2, 'Ahmed')\n",
      "(3, 'Usman')\n",
      "(4, 'Ali')\n",
      "(5, 'Taha')\n",
      "(6, 'Shabbir')\n",
      "(7, 'Ismail')\n",
      "(8, 'Omer')\n",
      "(9, 'Adnan')\n",
      "(10, 'Sulman')\n",
      "(11, 'Lubaid Ahmed')\n"
     ]
    }
   ],
   "source": [
    "#program 7\n",
    "import sqlite3\n",
    "con = sqlite3.connect('AbdulWahab.db')\n",
    "def sql_fetch(con):\n",
    "    cursorObj = con.cursor()\n",
    "    cursorObj.execute('SELECT id , name FROM employees')\n",
    "    rows = cursorObj.fetchall()\n",
    "    for row in rows:\n",
    "        print(row)\n",
    "sql_fetch(con)"
   ]
  },
  {
   "cell_type": "code",
   "execution_count": 26,
   "metadata": {},
   "outputs": [
    {
     "name": "stdout",
     "output_type": "stream",
     "text": [
      "(1, 'Parkash', 20000.0, 'CS', 'Asst. Professor', '1/8/2002')\n",
      "(2, 'Ahmed', 80000.0, 'SE', 'Professor', '13/3/2002')\n",
      "(3, 'Usman', 60000.0, 'CS', 'Asst. Professor', '12/2/2004')\n",
      "(4, 'Ali', 50000.0, 'SE', 'Lecturar', '20/8/2002')\n",
      "(5, 'Taha', 20000.0, 'CS', 'Lab Assistent', '20/7/2004')\n",
      "(6, 'Shabbir', 12000.0, 'SE', 'Asst. Professor', '20/6/2006')\n",
      "(7, 'Ismail', 20000.0, 'CS', 'Junior Lecturar', '20/3/2006')\n",
      "(8, 'Omer', 50000.0, 'SE', 'Professor', '10/12/2002')\n",
      "(9, 'Adnan', 30000.0, 'CS', 'Asst Professor', '2/4/2009')\n",
      "(10, 'Sulman', 20000.0, 'SE', 'Junior Lecturar', '10/3/2008')\n",
      "(11, 'Lubaid Ahmed', 35000.0, 'CS', 'Asst.Prof', '2/6/2016')\n"
     ]
    }
   ],
   "source": [
    "#program 8\n",
    "import sqlite3\n",
    "con = sqlite3.connect('AbdulWahab.db')\n",
    "def sql_fetch(con):\n",
    "    cursorObj = con.cursor()\n",
    "    cursorObj.execute('SELECT * FROM employees')\n",
    "    rows = cursorObj.fetchall()\n",
    "    for row in rows:\n",
    "        print(row)    \n",
    "        \n",
    "        \n",
    "sql_fetch(con)"
   ]
  }
 ],
 "metadata": {
  "kernelspec": {
   "display_name": "Python 3",
   "language": "python",
   "name": "python3"
  },
  "language_info": {
   "codemirror_mode": {
    "name": "ipython",
    "version": 3
   },
   "file_extension": ".py",
   "mimetype": "text/x-python",
   "name": "python",
   "nbconvert_exporter": "python",
   "pygments_lexer": "ipython3",
   "version": "3.6.5"
  }
 },
 "nbformat": 4,
 "nbformat_minor": 2
}
